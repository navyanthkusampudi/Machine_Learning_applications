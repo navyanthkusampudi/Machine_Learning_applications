{
 "cells": [
  {
   "cell_type": "markdown",
   "metadata": {},
   "source": [
    "# Variational Auto encoders with MNIST data\n",
    "\n",
    "https://www.kaggle.com/rvislaywade/visualizing-mnist-using-a-variational-autoencoder"
   ]
  },
  {
   "cell_type": "markdown",
   "metadata": {},
   "source": [
    "**Contents**\n",
    "1. Introduction\n",
    "    - What is autoencoding\n",
    "    - Autoencoders\n",
    "    - The variatonal variety\n",
    "    \n",
    "2. Data preparation\n",
    "   - Load Data\n",
    "   - Combine train and test\n",
    "   - Split into new training and validation sets\n",
    "   - Reshape and Normmalize\n",
    "  \n",
    "3. Model construction\n",
    "    - Encoder Network\n",
    "    - Sampling function\n",
    "    - decoder Network\n",
    "    - Loss\n",
    " \n",
    "4. Train the VAE\n",
    "\n",
    "5. Results\n",
    "    - Clusteering of digits in latent space\n",
    "    - Sample digits\n",
    "    "
   ]
  },
  {
   "cell_type": "markdown",
   "metadata": {},
   "source": [
    "## 1. Introduction\n",
    "\n",
    "Variational auto encoders can be used to visualize high dimensional dat in a meaningful lower dimensional space. \n",
    "\n",
    "#### A. What is Auto encoding?\n",
    "\n",
    "Autoencoding is much like what sounds in the sense that the input and output are essentially the same. Th autoencoders can be used as preprocessing the data before training a supervised learning algorithm.\n",
    "\n",
    "#### B. Autoencoders\n",
    "\n",
    "Generally autoencoders consits of three main parts: an encoder, a decoder.\n",
    "\n",
    "#### C. Variational Variety\n",
    "\n",
    "There are different kind of autoencoders. Variational auroencoders not oly learn to morph the data in and out of a compressed representation of itself like the vanila auto encoders. Instead they learn the probability distribution that the data come from. Since they learn about the distribution the inputs came from, we can sample from that distribution to generate novel data. VAEs can also be used to cluster data in useful ways\n",
    "\n",
    "<img src='https://i.imgur.com/ZN6MyTx.png'>"
   ]
  },
  {
   "cell_type": "markdown",
   "metadata": {},
   "source": [
    "**What is the differenc between a simple autoencoder and a Variational autoencoder?**\n",
    "https://jamesmccaffrey.wordpress.com/2018/07/03/the-difference-between-an-autoencoder-and-a-variational-autoencoder/\n",
    "\n",
    "**simple Autoencoder**\n",
    "An autoencoder takes the input, compress it, and then recreates the original input. This is an unsupervised techinique because we are not using any labels but only the original data. The two main uses of autoencoders are 1. To compress datato two or three dimensions so it  can be graphed, 2. To compress and decompress images or documents that removes the noise.\n",
    "\n",
    "**Variational Autoencoder**\n",
    "A variational autoencoder assumes that the sourse data has some sort of underlying probability distribution (such as gaussian distribution) and then attempts to find the parameter of the distribution. Implementing VAE is very challenging than simple AEw. The main use use of VAE is to generate new data that is related to the original data. Now what the additional data is good for is hard to say. A VAE is a generative system  and serves as a similar purpose as a Generative Adversarial Neetwork although GANs work quite differently.\n",
    "\n"
   ]
  },
  {
   "cell_type": "markdown",
   "metadata": {},
   "source": [
    "## 2. Data Preparation"
   ]
  },
  {
   "cell_type": "markdown",
   "metadata": {},
   "source": [
    "#### A. Load Data"
   ]
  },
  {
   "cell_type": "code",
   "execution_count": 5,
   "metadata": {},
   "outputs": [
    {
     "name": "stdout",
     "output_type": "stream",
     "text": [
      "Populating the interactive namespace from numpy and matplotlib\n"
     ]
    }
   ],
   "source": [
    "%pylab inline\n",
    "import pandas as pd\n",
    "import matplotlib.patches as mpatches\n",
    "\n",
    "from scipy.stats import norm\n",
    "\n",
    "import keras\n",
    "from keras.datasets import mnist\n",
    "from keras import layers\n",
    "from keras.models import Model\n",
    "from keras import metrics\n",
    "from keras import backend as K # generic backgound so code works with \n",
    "                                 # tensorflow or theano\n",
    "np.random.seed(237)\n"
   ]
  },
  {
   "cell_type": "code",
   "execution_count": 7,
   "metadata": {},
   "outputs": [],
   "source": [
    "(X_train,y_train),(X_valid,y_valid) = mnist.load_data()"
   ]
  },
  {
   "cell_type": "markdown",
   "metadata": {},
   "source": [
    "Normalize and resize the images "
   ]
  },
  {
   "cell_type": "code",
   "execution_count": 8,
   "metadata": {},
   "outputs": [],
   "source": [
    "#change  datatype to float\n",
    "X_train = X_train.astype('float32')\n",
    "X_valid = X_valid.astype('float32')\n",
    "\n",
    "#rescale the values btw '0-1'\n",
    "X_train/=255\n",
    "X_valid/=255\n",
    "\n",
    "X_train = X_train.reshape(-1,28,28,1)\n",
    "X_valid = X_valid.reshape(-1,28,28,1)"
   ]
  },
  {
   "cell_type": "code",
   "execution_count": 9,
   "metadata": {},
   "outputs": [
    {
     "data": {
      "image/png": "[encoded data removed]",
      "text/plain": [
       "<Figure size 432x288 with 4 Axes>"
      ]
     },
     "metadata": {
      "needs_background": "light"
     },
     "output_type": "display_data"
    }
   ],
   "source": [
    "plt.figure(1)\n",
    "plt.subplot(221)\n",
    "plt.imshow(X_train[13][:,:,0])\n",
    "\n",
    "plt.subplot(222)\n",
    "plt.imshow(X_train[690][:,:,0])\n",
    "\n",
    "plt.subplot(223)\n",
    "plt.imshow(X_train[2375][:,:,0])\n",
    "\n",
    "plt.subplot(224)\n",
    "plt.imshow(X_train[42013][:,:,0])\n",
    "plt.show()"
   ]
  },
  {
   "cell_type": "markdown",
   "metadata": {},
   "source": [
    "## 3. Model Construction"
   ]
  },
  {
   "cell_type": "markdown",
   "metadata": {},
   "source": [
    "VAE has three basic parts\n",
    "\n",
    "1. Encoder: that learns the parameters (mean and the varaince) of the underlying low dimensional latent distribution of the original high dimensional Input Image\n",
    "\n",
    "2. A sampling function tht samples from the distribution\n",
    "\n",
    "3. A decoder that can turn the sample data from the learned distribution and coverts it to highdimensional Output data\n",
    "\n",
    "In this example both the encoder and the decoder are CNNs.\n",
    "\n",
    "####  A. Encodr Network\n",
    "\n",
    "The encoder has two output layers, one for the latent distribution mean and teh other for its variance"
   ]
  },
  {
   "cell_type": "code",
   "execution_count": 29,
   "metadata": {},
   "outputs": [],
   "source": [
    "img_shape = (28,28,1)\n",
    "batch_size = 16\n",
    "latent_dim = 2 # number of latent ddimensions\n",
    "\n",
    "# encoder Architeccture:\n",
    "#Input >> Conv2d*4 >> Flatten >> Dense\n",
    "input_img = keras.Input(shape=img_shape)\n",
    "\n",
    "x = layers.Conv2D(32,3,padding='same',activation='relu')(input_img)\n",
    "x = layers.Conv2D(64,3,padding='same',activation='relu',strides=(2,2))(x)\n",
    "x = layers.Conv2D(64,3,padding='same',activation='relu')(x)\n",
    "x = layers.Conv2D(64,3,padding='same',activation='relu')(x)\n",
    "\n",
    "# need to know the shape of the network here for the decoder \n",
    "shape_before_flattening = K.int_shape(x)\n",
    "\n",
    "x = layers.Flatten()(x)\n",
    "x = layers.Dense(32,activation='relu')(x)\n",
    "\n",
    "# two outputs: Latent mean and (log) variance\n",
    "z_mu = layers.Dense(2)(x)\n",
    "z_log_sigma = layers.Dense(2)(x) #note that the inut is 'x' but not 'z_mu'"
   ]
  },
  {
   "cell_type": "markdown",
   "metadata": {},
   "source": [
    "#### B. Sampling Function\n",
    "\n",
    "This function samples the data from the sampling distribution learned by the encoder (the parameters learned: z_mu, z_log_sigma). $epsilon$ is a tensor of small random normal values. One of the assumptions underlying a VAE is that the data came from random normal distribution in latent space. \n",
    "\n",
    "With keras everything has to be in a layer format to compile correctly. This goes for the sampling function too. The lambda wrapper can be used for this operation"
   ]
  },
  {
   "cell_type": "code",
   "execution_count": 30,
   "metadata": {},
   "outputs": [],
   "source": [
    "# sampling function\n",
    "def sampling(args):\n",
    "    \n",
    "    z_mu, z_log_sigma = args\n",
    "    epsilon = K.random_normal(shape=(K.shape(z_mu)[0], latent_dim),\n",
    "                             mean=0., stddev=1.)\n",
    "    return z_mu + K.exp(z_log_sigma)*epsilon\n",
    "\n",
    "# sample vector from the latent distribution\n",
    "z = layers.Lambda(sampling)([z_mu, z_log_sigma])"
   ]
  },
  {
   "cell_type": "markdown",
   "metadata": {},
   "source": [
    "#### C. Decoder Network\n",
    "the deoder is baically the inverse of the encoder"
   ]
  },
  {
   "cell_type": "code",
   "execution_count": 32,
   "metadata": {},
   "outputs": [],
   "source": [
    "# decoder takes the latent distribution sample 'Z' as input \n",
    "\n",
    "decoder_input = layers.Input(K.int_shape(z)[1:])\n",
    "\n",
    "#expanding to 784 pixels\n",
    "x = layers.Dense(np.prod(shape_before_flattening[1:]),\n",
    "                activation='relu')(decoder_input)\n",
    "\n",
    "#reshape\n",
    "x = layers.Reshape(shape_before_flattening[1:])(x)\n",
    "\n",
    "# use Conv2DTranspose to reverse the cov layers from the encoder\n",
    "x = layers.Conv2DTranspose(32,3,padding='same',activation='relu',\n",
    "                          strides=(2,2))(x)\n",
    "\n",
    "x = layers.Conv2D(1,3,padding='same',activation='sigmoid')(x)\n",
    "\n",
    "#decoder model statement\n",
    "decoder = Model(decoder_input,x)\n",
    "\n",
    "# apply the decoder to the sample from the latent space\n",
    "z_decoded = decoder(z)"
   ]
  },
  {
   "cell_type": "markdown",
   "metadata": {},
   "source": [
    "#### D. Loss function\n",
    "\n",
    "VAE requires a unique loss function. VAE is trained using a loss function with two components\n",
    "\n",
    "1. **Reconstruction Loss**: This is the cross-entropy describing the errors between the decoded samples from the latent distribution and the original inputs.\n",
    "\n",
    "2. **The KL-divergence**: it is between the latent distribution and the prior (this acts a sort of regulaization term)\n",
    "\n",
    "We define a custom layer class that calculates the loss"
   ]
  },
  {
   "cell_type": "code",
   "execution_count": 34,
   "metadata": {},
   "outputs": [
    {
     "name": "stderr",
     "output_type": "stream",
     "text": [
      "W0330 00:15:45.546758 11008 deprecation_wrapper.py:119] From C:\\Users\\Navyanth\\AppData\\Roaming\\Python\\Python37\\site-packages\\keras\\backend\\tensorflow_backend.py:3376: The name tf.log is deprecated. Please use tf.math.log instead.\n",
      "\n",
      "W0330 00:15:45.562785 11008 deprecation.py:323] From C:\\Users\\Navyanth\\AppData\\Roaming\\Python\\Python37\\site-packages\\tensorflow\\python\\ops\\nn_impl.py:180: add_dispatch_support.<locals>.wrapper (from tensorflow.python.ops.array_ops) is deprecated and will be removed in a future version.\n",
      "Instructions for updating:\n",
      "Use tf.where in 2.0, which has the same broadcast rule as np.where\n"
     ]
    }
   ],
   "source": [
    "# construct a custom layer to calculate the loss\n",
    "class CustomVariationalLayer(keras.layers.Layer):\n",
    "    \n",
    "    def vae_loss(self, x, z_decoded):\n",
    "        #x is input (true) and z_decoded is reconst image (predicted) \n",
    "        x = K.flatten(x)\n",
    "        z_decoded = K.flatten(z_decoded)\n",
    "        \n",
    "        #reconstruction loss\n",
    "        xent_loss = keras.metrics.binary_crossentropy(x,z_decoded)\n",
    "        \n",
    "        # KL divergence\n",
    "        kl_loss = -5e-4*K.mean(1+z_log_sigma - K.square(z_mu)-K.exp(z_log_sigma),axis=-1)\n",
    "        \n",
    "        return K.mean(xent_loss+kl_loss)\n",
    "    \n",
    "    def call(self,inputs):\n",
    "        \n",
    "        x = inputs[0]           #actual image\n",
    "        z_decoded = inputs[1]   # predicted image\n",
    "        my_loss = self.vae_loss(x,z_decoded)\n",
    "        \n",
    "        # define the loss function to the layer\n",
    "        self.add_loss(my_loss, inputs=inputs) \n",
    "        \n",
    "        return x\n",
    "        \n",
    "# apply the custom loss to the  input images and the decoded\n",
    "# latent distribution\n",
    "    \n",
    "y = CustomVariationalLayer()([input_img, z_decoded])"
   ]
  },
  {
   "cell_type": "markdown",
   "metadata": {},
   "source": [
    "Instatiate teh model and take a look at the summry"
   ]
  },
  {
   "cell_type": "code",
   "execution_count": 35,
   "metadata": {},
   "outputs": [],
   "source": [
    "# VAE model statement\n",
    "vae = Model(input_img, y)"
   ]
  },
  {
   "cell_type": "code",
   "execution_count": 36,
   "metadata": {
    "scrolled": true
   },
   "outputs": [
    {
     "name": "stdout",
     "output_type": "stream",
     "text": [
      "__________________________________________________________________________________________________\n",
      "Layer (type)                    Output Shape         Param #     Connected to                     \n",
      "==================================================================================================\n",
      "input_11 (InputLayer)           (None, 28, 28, 1)    0                                            \n",
      "__________________________________________________________________________________________________\n",
      "conv2d_41 (Conv2D)              (None, 28, 28, 32)   320         input_11[0][0]                   \n",
      "__________________________________________________________________________________________________\n",
      "conv2d_42 (Conv2D)              (None, 14, 14, 64)   18496       conv2d_41[0][0]                  \n",
      "__________________________________________________________________________________________________\n",
      "conv2d_43 (Conv2D)              (None, 14, 14, 64)   36928       conv2d_42[0][0]                  \n",
      "__________________________________________________________________________________________________\n",
      "conv2d_44 (Conv2D)              (None, 14, 14, 64)   36928       conv2d_43[0][0]                  \n",
      "__________________________________________________________________________________________________\n",
      "flatten_8 (Flatten)             (None, 12544)        0           conv2d_44[0][0]                  \n",
      "__________________________________________________________________________________________________\n",
      "dense_17 (Dense)                (None, 32)           401440      flatten_8[0][0]                  \n",
      "__________________________________________________________________________________________________\n",
      "dense_18 (Dense)                (None, 2)            66          dense_17[0][0]                   \n",
      "__________________________________________________________________________________________________\n",
      "dense_19 (Dense)                (None, 2)            66          dense_17[0][0]                   \n",
      "__________________________________________________________________________________________________\n",
      "lambda_3 (Lambda)               (None, 2)            0           dense_18[0][0]                   \n",
      "                                                                 dense_19[0][0]                   \n",
      "__________________________________________________________________________________________________\n",
      "model_1 (Model)                 (None, 28, 28, 1)    56385       lambda_3[0][0]                   \n",
      "__________________________________________________________________________________________________\n",
      "custom_variational_layer_1 (Cus [(None, 28, 28, 1),  0           input_11[0][0]                   \n",
      "                                                                 model_1[1][0]                    \n",
      "==================================================================================================\n",
      "Total params: 550,629\n",
      "Trainable params: 550,629\n",
      "Non-trainable params: 0\n",
      "__________________________________________________________________________________________________\n"
     ]
    }
   ],
   "source": [
    "vae.summary()"
   ]
  },
  {
   "cell_type": "code",
   "execution_count": 37,
   "metadata": {
    "scrolled": true
   },
   "outputs": [
    {
     "name": "stdout",
     "output_type": "stream",
     "text": [
      "_________________________________________________________________\n",
      "Layer (type)                 Output Shape              Param #   \n",
      "=================================================================\n",
      "input_13 (InputLayer)        (None, 2)                 0         \n",
      "_________________________________________________________________\n",
      "dense_20 (Dense)             (None, 12544)             37632     \n",
      "_________________________________________________________________\n",
      "reshape_1 (Reshape)          (None, 14, 14, 64)        0         \n",
      "_________________________________________________________________\n",
      "conv2d_transpose_1 (Conv2DTr (None, 28, 28, 32)        18464     \n",
      "_________________________________________________________________\n",
      "conv2d_45 (Conv2D)           (None, 28, 28, 1)         289       \n",
      "=================================================================\n",
      "Total params: 56,385\n",
      "Trainable params: 56,385\n",
      "Non-trainable params: 0\n",
      "_________________________________________________________________\n"
     ]
    }
   ],
   "source": [
    "decoder.summary()"
   ]
  },
  {
   "cell_type": "markdown",
   "metadata": {},
   "source": [
    "## 4. Train the VAE"
   ]
  },
  {
   "cell_type": "code",
   "execution_count": null,
   "metadata": {},
   "outputs": [],
   "source": [
    "vae.fit(x=X_train, y=None, shuffle=True, epochs=7,\n",
    "       batch_size=batch_size, validation_data=(X_valid,None))"
   ]
  }
 ],
 "metadata": {
  "kernelspec": {
   "display_name": "Python 3",
   "language": "python",
   "name": "python3"
  },
  "language_info": {
   "codemirror_mode": {
    "name": "ipython",
    "version": 3
   },
   "file_extension": ".py",
   "mimetype": "text/x-python",
   "name": "python",
   "nbconvert_exporter": "python",
   "pygments_lexer": "ipython3",
   "version": "3.7.3"
  }
 },
 "nbformat": 4,
 "nbformat_minor": 2
}
