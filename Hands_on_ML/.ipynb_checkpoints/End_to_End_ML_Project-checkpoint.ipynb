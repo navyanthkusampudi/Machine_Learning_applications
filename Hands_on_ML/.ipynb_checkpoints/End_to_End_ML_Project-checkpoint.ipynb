{
 "cells": [
  {
   "cell_type": "markdown",
   "metadata": {},
   "source": [
    "## End-to-End Machine learning project"
   ]
  },
  {
   "cell_type": "raw",
   "metadata": {},
   "source": [
    "1. Look at the big picture\n",
    "2. Get the data\n",
    "3. Discover and Visualize th data to gain insights\n",
    "4. Prepare the data for Machine learning algorithms\n",
    "5. Select a model and train it\n",
    "6. Fine-Tune your Model\n",
    "7. Presenting solution\n",
    "8. Launching and motoring the system"
   ]
  },
  {
   "cell_type": "code",
   "execution_count": null,
   "metadata": {},
   "outputs": [],
   "source": []
  }
 ],
 "metadata": {
  "kernelspec": {
   "display_name": "Python 3",
   "language": "python",
   "name": "python3"
  },
  "language_info": {
   "codemirror_mode": {
    "name": "ipython",
    "version": 3
   },
   "file_extension": ".py",
   "mimetype": "text/x-python",
   "name": "python",
   "nbconvert_exporter": "python",
   "pygments_lexer": "ipython3",
   "version": "3.7.3"
  }
 },
 "nbformat": 4,
 "nbformat_minor": 2
}
