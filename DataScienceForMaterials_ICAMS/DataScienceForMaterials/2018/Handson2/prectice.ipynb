{
 "cells": [
  {
   "cell_type": "code",
   "execution_count": 1,
   "metadata": {},
   "outputs": [
    {
     "name": "stdout",
     "output_type": "stream",
     "text": [
      "Populating the interactive namespace from numpy and matplotlib\n"
     ]
    }
   ],
   "source": [
    "%pylab inline"
   ]
  },
  {
   "cell_type": "code",
   "execution_count": 2,
   "metadata": {},
   "outputs": [],
   "source": [
    "import pandas as pd"
   ]
  },
  {
   "cell_type": "code",
   "execution_count": 7,
   "metadata": {},
   "outputs": [
    {
     "name": "stdout",
     "output_type": "stream",
     "text": [
      "Wall time: 13.9 s\n"
     ]
    }
   ],
   "source": [
    "%%time\n",
    "df = pd.read_excel('Ni-superalloys-data_mod.xlsx',)"
   ]
  },
  {
   "cell_type": "code",
   "execution_count": 9,
   "metadata": {},
   "outputs": [
    {
     "data": {
      "text/plain": [
       "Index(['Unnamed: 0', 'Al', 'Ti', 'Cr', 'Co', 'Mo', 'Ru', 'Ta', 'W', 'Re',\n",
       "       'Al_var', 'Ti_var', 'Cr_var', 'Co_var', 'Mo_var', 'Ru_var', 'Ta_var',\n",
       "       'W_var', 'Re_var', 'T', 'P_TCAPI_GammaPrimePhaseFractionMain_value',\n",
       "       'P_TCAPI_SolidusTemperatureMain_value',\n",
       "       'P_TCAPI_LiquidusTemperatureMain_value',\n",
       "       'P_TCAPI_Density_CaronMain_value'],\n",
       "      dtype='object')"
      ]
     },
     "execution_count": 9,
     "metadata": {},
     "output_type": "execute_result"
    }
   ],
   "source": [
    "df.columns"
   ]
  },
  {
   "cell_type": "code",
   "execution_count": 13,
   "metadata": {},
   "outputs": [
    {
     "ename": "TypeError",
     "evalue": "'method' object is not subscriptable",
     "output_type": "error",
     "traceback": [
      "\u001b[1;31m---------------------------------------------------------------------------\u001b[0m",
      "\u001b[1;31mTypeError\u001b[0m                                 Traceback (most recent call last)",
      "\u001b[1;32m<ipython-input-13-b642348ad574>\u001b[0m in \u001b[0;36m<module>\u001b[1;34m\u001b[0m\n\u001b[1;32m----> 1\u001b[1;33m \u001b[0mdf\u001b[0m\u001b[1;33m.\u001b[0m\u001b[0mdrop\u001b[0m\u001b[1;33m[\u001b[0m\u001b[1;34m'Unnamed: 0'\u001b[0m\u001b[1;33m]\u001b[0m\u001b[1;33m\u001b[0m\u001b[1;33m\u001b[0m\u001b[0m\n\u001b[0m",
      "\u001b[1;31mTypeError\u001b[0m: 'method' object is not subscriptable"
     ]
    }
   ],
   "source": [
    "df.drop['Unnamed: 0']"
   ]
  },
  {
   "cell_type": "code",
   "execution_count": 4,
   "metadata": {},
   "outputs": [
    {
     "name": "stdout",
     "output_type": "stream",
     "text": [
      "Wall time: 3.52 s\n"
     ]
    }
   ],
   "source": [
    "%%time\n",
    "df.to_hdf('Ni-super alloys-data.hdf5', key='data')"
   ]
  },
  {
   "cell_type": "code",
   "execution_count": 14,
   "metadata": {},
   "outputs": [],
   "source": [
    "df = pd.read_hdf('Ni-superalloys-data_mod.hdf5')"
   ]
  },
  {
   "cell_type": "code",
   "execution_count": 5,
   "metadata": {},
   "outputs": [
    {
     "name": "stdout",
     "output_type": "stream",
     "text": [
      "Wall time: 27.9 ms\n"
     ]
    }
   ],
   "source": [
    "%%time\n",
    "df = pd.read_hdf('Ni-s')"
   ]
  },
  {
   "cell_type": "code",
   "execution_count": 15,
   "metadata": {},
   "outputs": [
    {
     "data": {
      "text/html": [
       "<div>\n",
       "<style scoped>\n",
       "    .dataframe tbody tr th:only-of-type {\n",
       "        vertical-align: middle;\n",
       "    }\n",
       "\n",
       "    .dataframe tbody tr th {\n",
       "        vertical-align: top;\n",
       "    }\n",
       "\n",
       "    .dataframe thead th {\n",
       "        text-align: right;\n",
       "    }\n",
       "</style>\n",
       "<table border=\"1\" class=\"dataframe\">\n",
       "  <thead>\n",
       "    <tr style=\"text-align: right;\">\n",
       "      <th></th>\n",
       "      <th>Al</th>\n",
       "      <th>Ti</th>\n",
       "      <th>Cr</th>\n",
       "      <th>Co</th>\n",
       "      <th>Mo</th>\n",
       "      <th>Ru</th>\n",
       "      <th>Ta</th>\n",
       "      <th>W</th>\n",
       "      <th>Re</th>\n",
       "      <th>Al_var</th>\n",
       "      <th>...</th>\n",
       "      <th>Mo_var</th>\n",
       "      <th>Ru_var</th>\n",
       "      <th>Ta_var</th>\n",
       "      <th>W_var</th>\n",
       "      <th>Re_var</th>\n",
       "      <th>T</th>\n",
       "      <th>P_TCAPI_GammaPrimePhaseFractionMain_value</th>\n",
       "      <th>P_TCAPI_SolidusTemperatureMain_value</th>\n",
       "      <th>P_TCAPI_LiquidusTemperatureMain_value</th>\n",
       "      <th>P_TCAPI_Density_CaronMain_value</th>\n",
       "    </tr>\n",
       "  </thead>\n",
       "  <tbody>\n",
       "    <tr>\n",
       "      <th>0</th>\n",
       "      <td>0.030004</td>\n",
       "      <td>0.034982</td>\n",
       "      <td>0.060390</td>\n",
       "      <td>0.179354</td>\n",
       "      <td>0.004069</td>\n",
       "      <td>0.070098</td>\n",
       "      <td>0.033860</td>\n",
       "      <td>0.018508</td>\n",
       "      <td>0.070210</td>\n",
       "      <td>0.002396</td>\n",
       "      <td>...</td>\n",
       "      <td>0.000191</td>\n",
       "      <td>0.001678</td>\n",
       "      <td>0.004871</td>\n",
       "      <td>0.004565</td>\n",
       "      <td>0.004747</td>\n",
       "      <td>1274.450089</td>\n",
       "      <td>30.776242</td>\n",
       "      <td>1329.063527</td>\n",
       "      <td>1390.850579</td>\n",
       "      <td>8687.461852</td>\n",
       "    </tr>\n",
       "    <tr>\n",
       "      <th>1</th>\n",
       "      <td>0.030007</td>\n",
       "      <td>0.033043</td>\n",
       "      <td>0.049549</td>\n",
       "      <td>0.152138</td>\n",
       "      <td>0.045881</td>\n",
       "      <td>0.041942</td>\n",
       "      <td>0.024419</td>\n",
       "      <td>0.063190</td>\n",
       "      <td>0.013271</td>\n",
       "      <td>0.003000</td>\n",
       "      <td>...</td>\n",
       "      <td>0.001000</td>\n",
       "      <td>0.002000</td>\n",
       "      <td>0.002000</td>\n",
       "      <td>0.002000</td>\n",
       "      <td>0.001000</td>\n",
       "      <td>1188.879240</td>\n",
       "      <td>38.051605</td>\n",
       "      <td>1331.448294</td>\n",
       "      <td>1378.137130</td>\n",
       "      <td>8616.105462</td>\n",
       "    </tr>\n",
       "    <tr>\n",
       "      <th>2</th>\n",
       "      <td>0.030010</td>\n",
       "      <td>0.025279</td>\n",
       "      <td>0.042238</td>\n",
       "      <td>0.048914</td>\n",
       "      <td>0.086289</td>\n",
       "      <td>0.023597</td>\n",
       "      <td>0.064696</td>\n",
       "      <td>0.023875</td>\n",
       "      <td>0.052492</td>\n",
       "      <td>0.001978</td>\n",
       "      <td>...</td>\n",
       "      <td>0.001181</td>\n",
       "      <td>0.002562</td>\n",
       "      <td>0.003372</td>\n",
       "      <td>0.004824</td>\n",
       "      <td>0.003075</td>\n",
       "      <td>1231.177894</td>\n",
       "      <td>38.014655</td>\n",
       "      <td>1330.248589</td>\n",
       "      <td>1377.186752</td>\n",
       "      <td>8915.481419</td>\n",
       "    </tr>\n",
       "    <tr>\n",
       "      <th>3</th>\n",
       "      <td>0.030010</td>\n",
       "      <td>0.028758</td>\n",
       "      <td>0.117597</td>\n",
       "      <td>0.129213</td>\n",
       "      <td>0.013396</td>\n",
       "      <td>0.081975</td>\n",
       "      <td>0.043861</td>\n",
       "      <td>0.105330</td>\n",
       "      <td>0.004558</td>\n",
       "      <td>0.002228</td>\n",
       "      <td>...</td>\n",
       "      <td>0.001827</td>\n",
       "      <td>0.002841</td>\n",
       "      <td>0.002321</td>\n",
       "      <td>0.003077</td>\n",
       "      <td>0.002766</td>\n",
       "      <td>1295.155371</td>\n",
       "      <td>34.460291</td>\n",
       "      <td>1257.819936</td>\n",
       "      <td>1338.662203</td>\n",
       "      <td>8873.510816</td>\n",
       "    </tr>\n",
       "    <tr>\n",
       "      <th>4</th>\n",
       "      <td>0.030011</td>\n",
       "      <td>0.055962</td>\n",
       "      <td>0.022606</td>\n",
       "      <td>0.096740</td>\n",
       "      <td>0.089257</td>\n",
       "      <td>0.016347</td>\n",
       "      <td>0.025636</td>\n",
       "      <td>0.030560</td>\n",
       "      <td>0.041867</td>\n",
       "      <td>0.002470</td>\n",
       "      <td>...</td>\n",
       "      <td>0.002601</td>\n",
       "      <td>0.001075</td>\n",
       "      <td>0.003116</td>\n",
       "      <td>0.001902</td>\n",
       "      <td>0.003975</td>\n",
       "      <td>1375.811214</td>\n",
       "      <td>35.945177</td>\n",
       "      <td>1295.418620</td>\n",
       "      <td>1349.375554</td>\n",
       "      <td>8611.575596</td>\n",
       "    </tr>\n",
       "  </tbody>\n",
       "</table>\n",
       "<p>5 rows × 23 columns</p>\n",
       "</div>"
      ],
      "text/plain": [
       "         Al        Ti        Cr        Co        Mo        Ru        Ta  \\\n",
       "0  0.030004  0.034982  0.060390  0.179354  0.004069  0.070098  0.033860   \n",
       "1  0.030007  0.033043  0.049549  0.152138  0.045881  0.041942  0.024419   \n",
       "2  0.030010  0.025279  0.042238  0.048914  0.086289  0.023597  0.064696   \n",
       "3  0.030010  0.028758  0.117597  0.129213  0.013396  0.081975  0.043861   \n",
       "4  0.030011  0.055962  0.022606  0.096740  0.089257  0.016347  0.025636   \n",
       "\n",
       "          W        Re    Al_var  ...    Mo_var    Ru_var    Ta_var     W_var  \\\n",
       "0  0.018508  0.070210  0.002396  ...  0.000191  0.001678  0.004871  0.004565   \n",
       "1  0.063190  0.013271  0.003000  ...  0.001000  0.002000  0.002000  0.002000   \n",
       "2  0.023875  0.052492  0.001978  ...  0.001181  0.002562  0.003372  0.004824   \n",
       "3  0.105330  0.004558  0.002228  ...  0.001827  0.002841  0.002321  0.003077   \n",
       "4  0.030560  0.041867  0.002470  ...  0.002601  0.001075  0.003116  0.001902   \n",
       "\n",
       "     Re_var            T  P_TCAPI_GammaPrimePhaseFractionMain_value  \\\n",
       "0  0.004747  1274.450089                                  30.776242   \n",
       "1  0.001000  1188.879240                                  38.051605   \n",
       "2  0.003075  1231.177894                                  38.014655   \n",
       "3  0.002766  1295.155371                                  34.460291   \n",
       "4  0.003975  1375.811214                                  35.945177   \n",
       "\n",
       "   P_TCAPI_SolidusTemperatureMain_value  \\\n",
       "0                           1329.063527   \n",
       "1                           1331.448294   \n",
       "2                           1330.248589   \n",
       "3                           1257.819936   \n",
       "4                           1295.418620   \n",
       "\n",
       "   P_TCAPI_LiquidusTemperatureMain_value  P_TCAPI_Density_CaronMain_value  \n",
       "0                            1390.850579                      8687.461852  \n",
       "1                            1378.137130                      8616.105462  \n",
       "2                            1377.186752                      8915.481419  \n",
       "3                            1338.662203                      8873.510816  \n",
       "4                            1349.375554                      8611.575596  \n",
       "\n",
       "[5 rows x 23 columns]"
      ]
     },
     "execution_count": 15,
     "metadata": {},
     "output_type": "execute_result"
    }
   ],
   "source": [
    "df.head()"
   ]
  },
  {
   "cell_type": "code",
   "execution_count": 16,
   "metadata": {},
   "outputs": [
    {
     "data": {
      "text/html": [
       "<div>\n",
       "<style scoped>\n",
       "    .dataframe tbody tr th:only-of-type {\n",
       "        vertical-align: middle;\n",
       "    }\n",
       "\n",
       "    .dataframe tbody tr th {\n",
       "        vertical-align: top;\n",
       "    }\n",
       "\n",
       "    .dataframe thead th {\n",
       "        text-align: right;\n",
       "    }\n",
       "</style>\n",
       "<table border=\"1\" class=\"dataframe\">\n",
       "  <thead>\n",
       "    <tr style=\"text-align: right;\">\n",
       "      <th></th>\n",
       "      <th>Al</th>\n",
       "      <th>Ti</th>\n",
       "      <th>Cr</th>\n",
       "      <th>Co</th>\n",
       "      <th>Mo</th>\n",
       "      <th>Ru</th>\n",
       "      <th>Ta</th>\n",
       "      <th>W</th>\n",
       "      <th>Re</th>\n",
       "      <th>Al_var</th>\n",
       "      <th>...</th>\n",
       "      <th>Mo_var</th>\n",
       "      <th>Ru_var</th>\n",
       "      <th>Ta_var</th>\n",
       "      <th>W_var</th>\n",
       "      <th>Re_var</th>\n",
       "      <th>T</th>\n",
       "      <th>P_TCAPI_GammaPrimePhaseFractionMain_value</th>\n",
       "      <th>P_TCAPI_SolidusTemperatureMain_value</th>\n",
       "      <th>P_TCAPI_LiquidusTemperatureMain_value</th>\n",
       "      <th>P_TCAPI_Density_CaronMain_value</th>\n",
       "    </tr>\n",
       "  </thead>\n",
       "  <tbody>\n",
       "    <tr>\n",
       "      <th>count</th>\n",
       "      <td>57626.000000</td>\n",
       "      <td>57626.000000</td>\n",
       "      <td>57626.000000</td>\n",
       "      <td>57626.000000</td>\n",
       "      <td>57626.000000</td>\n",
       "      <td>57626.000000</td>\n",
       "      <td>57626.000000</td>\n",
       "      <td>57626.000000</td>\n",
       "      <td>57626.000000</td>\n",
       "      <td>57626.000000</td>\n",
       "      <td>...</td>\n",
       "      <td>57626.000000</td>\n",
       "      <td>57626.000000</td>\n",
       "      <td>57626.000000</td>\n",
       "      <td>57626.000000</td>\n",
       "      <td>57626.000000</td>\n",
       "      <td>57626.000000</td>\n",
       "      <td>57626.000000</td>\n",
       "      <td>57626.000000</td>\n",
       "      <td>57626.000000</td>\n",
       "      <td>57626.000000</td>\n",
       "    </tr>\n",
       "    <tr>\n",
       "      <th>mean</th>\n",
       "      <td>0.052061</td>\n",
       "      <td>0.025122</td>\n",
       "      <td>0.055495</td>\n",
       "      <td>0.114265</td>\n",
       "      <td>0.038329</td>\n",
       "      <td>0.028287</td>\n",
       "      <td>0.049494</td>\n",
       "      <td>0.045654</td>\n",
       "      <td>0.047730</td>\n",
       "      <td>0.001674</td>\n",
       "      <td>...</td>\n",
       "      <td>0.002165</td>\n",
       "      <td>0.001853</td>\n",
       "      <td>0.002687</td>\n",
       "      <td>0.002666</td>\n",
       "      <td>0.002666</td>\n",
       "      <td>1395.990464</td>\n",
       "      <td>52.454443</td>\n",
       "      <td>1445.782267</td>\n",
       "      <td>1500.845939</td>\n",
       "      <td>9434.747189</td>\n",
       "    </tr>\n",
       "    <tr>\n",
       "      <th>std</th>\n",
       "      <td>0.045135</td>\n",
       "      <td>0.030517</td>\n",
       "      <td>0.062710</td>\n",
       "      <td>0.121861</td>\n",
       "      <td>0.046740</td>\n",
       "      <td>0.037486</td>\n",
       "      <td>0.056196</td>\n",
       "      <td>0.056094</td>\n",
       "      <td>0.060407</td>\n",
       "      <td>0.001824</td>\n",
       "      <td>...</td>\n",
       "      <td>0.002364</td>\n",
       "      <td>0.002364</td>\n",
       "      <td>0.002974</td>\n",
       "      <td>0.002973</td>\n",
       "      <td>0.002962</td>\n",
       "      <td>1151.365402</td>\n",
       "      <td>45.660877</td>\n",
       "      <td>1187.747586</td>\n",
       "      <td>1231.889356</td>\n",
       "      <td>7742.036847</td>\n",
       "    </tr>\n",
       "    <tr>\n",
       "      <th>min</th>\n",
       "      <td>0.030004</td>\n",
       "      <td>0.000002</td>\n",
       "      <td>0.000002</td>\n",
       "      <td>0.000010</td>\n",
       "      <td>0.000000</td>\n",
       "      <td>0.000000</td>\n",
       "      <td>0.000001</td>\n",
       "      <td>0.000001</td>\n",
       "      <td>0.000000</td>\n",
       "      <td>0.000000</td>\n",
       "      <td>...</td>\n",
       "      <td>0.000000</td>\n",
       "      <td>0.000000</td>\n",
       "      <td>0.000000</td>\n",
       "      <td>0.000000</td>\n",
       "      <td>0.000000</td>\n",
       "      <td>1173.156104</td>\n",
       "      <td>30.000251</td>\n",
       "      <td>1200.024124</td>\n",
       "      <td>1263.869019</td>\n",
       "      <td>8000.127913</td>\n",
       "    </tr>\n",
       "    <tr>\n",
       "      <th>25%</th>\n",
       "      <td>0.039625</td>\n",
       "      <td>0.010876</td>\n",
       "      <td>0.025157</td>\n",
       "      <td>0.058565</td>\n",
       "      <td>0.014302</td>\n",
       "      <td>0.006320</td>\n",
       "      <td>0.021653</td>\n",
       "      <td>0.017479</td>\n",
       "      <td>0.017998</td>\n",
       "      <td>0.000856</td>\n",
       "      <td>...</td>\n",
       "      <td>0.001000</td>\n",
       "      <td>0.000542</td>\n",
       "      <td>0.001246</td>\n",
       "      <td>0.001232</td>\n",
       "      <td>0.001235</td>\n",
       "      <td>1226.771021</td>\n",
       "      <td>38.613299</td>\n",
       "      <td>1298.681375</td>\n",
       "      <td>1356.035016</td>\n",
       "      <td>8459.807687</td>\n",
       "    </tr>\n",
       "    <tr>\n",
       "      <th>50%</th>\n",
       "      <td>0.047311</td>\n",
       "      <td>0.020770</td>\n",
       "      <td>0.049434</td>\n",
       "      <td>0.107941</td>\n",
       "      <td>0.030517</td>\n",
       "      <td>0.022498</td>\n",
       "      <td>0.043174</td>\n",
       "      <td>0.037361</td>\n",
       "      <td>0.038078</td>\n",
       "      <td>0.001569</td>\n",
       "      <td>...</td>\n",
       "      <td>0.002000</td>\n",
       "      <td>0.001708</td>\n",
       "      <td>0.002410</td>\n",
       "      <td>0.002374</td>\n",
       "      <td>0.002384</td>\n",
       "      <td>1280.561420</td>\n",
       "      <td>47.289817</td>\n",
       "      <td>1331.280340</td>\n",
       "      <td>1378.674358</td>\n",
       "      <td>8669.294302</td>\n",
       "    </tr>\n",
       "    <tr>\n",
       "      <th>75%</th>\n",
       "      <td>0.055705</td>\n",
       "      <td>0.031799</td>\n",
       "      <td>0.075760</td>\n",
       "      <td>0.154196</td>\n",
       "      <td>0.052548</td>\n",
       "      <td>0.042088</td>\n",
       "      <td>0.068051</td>\n",
       "      <td>0.063436</td>\n",
       "      <td>0.064901</td>\n",
       "      <td>0.002238</td>\n",
       "      <td>...</td>\n",
       "      <td>0.003000</td>\n",
       "      <td>0.002812</td>\n",
       "      <td>0.003707</td>\n",
       "      <td>0.003670</td>\n",
       "      <td>0.003658</td>\n",
       "      <td>1332.798427</td>\n",
       "      <td>57.074071</td>\n",
       "      <td>1359.680741</td>\n",
       "      <td>1400.249342</td>\n",
       "      <td>8877.852301</td>\n",
       "    </tr>\n",
       "    <tr>\n",
       "      <th>max</th>\n",
       "      <td>0.699200</td>\n",
       "      <td>0.684730</td>\n",
       "      <td>1.444030</td>\n",
       "      <td>1.997810</td>\n",
       "      <td>1.137020</td>\n",
       "      <td>0.956040</td>\n",
       "      <td>1.425970</td>\n",
       "      <td>1.280590</td>\n",
       "      <td>1.474550</td>\n",
       "      <td>0.030000</td>\n",
       "      <td>...</td>\n",
       "      <td>0.039990</td>\n",
       "      <td>0.039860</td>\n",
       "      <td>0.049770</td>\n",
       "      <td>0.049830</td>\n",
       "      <td>0.050000</td>\n",
       "      <td>14538.500950</td>\n",
       "      <td>749.568860</td>\n",
       "      <td>14271.389380</td>\n",
       "      <td>14632.340680</td>\n",
       "      <td>91929.786530</td>\n",
       "    </tr>\n",
       "  </tbody>\n",
       "</table>\n",
       "<p>8 rows × 23 columns</p>\n",
       "</div>"
      ],
      "text/plain": [
       "                 Al            Ti            Cr            Co            Mo  \\\n",
       "count  57626.000000  57626.000000  57626.000000  57626.000000  57626.000000   \n",
       "mean       0.052061      0.025122      0.055495      0.114265      0.038329   \n",
       "std        0.045135      0.030517      0.062710      0.121861      0.046740   \n",
       "min        0.030004      0.000002      0.000002      0.000010      0.000000   \n",
       "25%        0.039625      0.010876      0.025157      0.058565      0.014302   \n",
       "50%        0.047311      0.020770      0.049434      0.107941      0.030517   \n",
       "75%        0.055705      0.031799      0.075760      0.154196      0.052548   \n",
       "max        0.699200      0.684730      1.444030      1.997810      1.137020   \n",
       "\n",
       "                 Ru            Ta             W            Re        Al_var  \\\n",
       "count  57626.000000  57626.000000  57626.000000  57626.000000  57626.000000   \n",
       "mean       0.028287      0.049494      0.045654      0.047730      0.001674   \n",
       "std        0.037486      0.056196      0.056094      0.060407      0.001824   \n",
       "min        0.000000      0.000001      0.000001      0.000000      0.000000   \n",
       "25%        0.006320      0.021653      0.017479      0.017998      0.000856   \n",
       "50%        0.022498      0.043174      0.037361      0.038078      0.001569   \n",
       "75%        0.042088      0.068051      0.063436      0.064901      0.002238   \n",
       "max        0.956040      1.425970      1.280590      1.474550      0.030000   \n",
       "\n",
       "       ...        Mo_var        Ru_var        Ta_var         W_var  \\\n",
       "count  ...  57626.000000  57626.000000  57626.000000  57626.000000   \n",
       "mean   ...      0.002165      0.001853      0.002687      0.002666   \n",
       "std    ...      0.002364      0.002364      0.002974      0.002973   \n",
       "min    ...      0.000000      0.000000      0.000000      0.000000   \n",
       "25%    ...      0.001000      0.000542      0.001246      0.001232   \n",
       "50%    ...      0.002000      0.001708      0.002410      0.002374   \n",
       "75%    ...      0.003000      0.002812      0.003707      0.003670   \n",
       "max    ...      0.039990      0.039860      0.049770      0.049830   \n",
       "\n",
       "             Re_var             T  P_TCAPI_GammaPrimePhaseFractionMain_value  \\\n",
       "count  57626.000000  57626.000000                               57626.000000   \n",
       "mean       0.002666   1395.990464                                  52.454443   \n",
       "std        0.002962   1151.365402                                  45.660877   \n",
       "min        0.000000   1173.156104                                  30.000251   \n",
       "25%        0.001235   1226.771021                                  38.613299   \n",
       "50%        0.002384   1280.561420                                  47.289817   \n",
       "75%        0.003658   1332.798427                                  57.074071   \n",
       "max        0.050000  14538.500950                                 749.568860   \n",
       "\n",
       "       P_TCAPI_SolidusTemperatureMain_value  \\\n",
       "count                          57626.000000   \n",
       "mean                            1445.782267   \n",
       "std                             1187.747586   \n",
       "min                             1200.024124   \n",
       "25%                             1298.681375   \n",
       "50%                             1331.280340   \n",
       "75%                             1359.680741   \n",
       "max                            14271.389380   \n",
       "\n",
       "       P_TCAPI_LiquidusTemperatureMain_value  P_TCAPI_Density_CaronMain_value  \n",
       "count                           57626.000000                     57626.000000  \n",
       "mean                             1500.845939                      9434.747189  \n",
       "std                              1231.889356                      7742.036847  \n",
       "min                              1263.869019                      8000.127913  \n",
       "25%                              1356.035016                      8459.807687  \n",
       "50%                              1378.674358                      8669.294302  \n",
       "75%                              1400.249342                      8877.852301  \n",
       "max                             14632.340680                     91929.786530  \n",
       "\n",
       "[8 rows x 23 columns]"
      ]
     },
     "execution_count": 16,
     "metadata": {},
     "output_type": "execute_result"
    }
   ],
   "source": [
    "df.describe()"
   ]
  },
  {
   "cell_type": "code",
   "execution_count": 17,
   "metadata": {},
   "outputs": [],
   "source": [
    "import seaborn as sns"
   ]
  },
  {
   "cell_type": "code",
   "execution_count": 18,
   "metadata": {},
   "outputs": [
    {
     "data": {
      "text/plain": [
       "<matplotlib.axes._subplots.AxesSubplot at 0x25295068a20>"
      ]
     },
     "execution_count": 18,
     "metadata": {},
     "output_type": "execute_result"
    },
    {
     "data": {
      "image/png": "[encoded data removed]",
      "text/plain": [
       "<Figure size 432x288 with 1 Axes>"
      ]
     },
     "metadata": {
      "needs_background": "light"
     },
     "output_type": "display_data"
    }
   ],
   "source": [
    "sns.boxplot(df['Al'])"
   ]
  },
  {
   "cell_type": "code",
   "execution_count": 19,
   "metadata": {},
   "outputs": [
    {
     "name": "stdout",
     "output_type": "stream",
     "text": [
      "Al\n"
     ]
    },
    {
     "data": {
      "image/png": "[encoded data removed]",
      "text/plain": [
       "<Figure size 432x288 with 1 Axes>"
      ]
     },
     "metadata": {
      "needs_background": "light"
     },
     "output_type": "display_data"
    },
    {
     "name": "stdout",
     "output_type": "stream",
     "text": [
      "Ti\n"
     ]
    },
    {
     "data": {
      "image/png": "[encoded data removed]",
      "text/plain": [
       "<Figure size 432x288 with 1 Axes>"
      ]
     },
     "metadata": {
      "needs_background": "light"
     },
     "output_type": "display_data"
    },
    {
     "name": "stdout",
     "output_type": "stream",
     "text": [
      "Cr\n"
     ]
    },
    {
     "data": {
      "image/png": "[encoded data removed]",
      "text/plain": [
       "<Figure size 432x288 with 1 Axes>"
      ]
     },
     "metadata": {
      "needs_background": "light"
     },
     "output_type": "display_data"
    },
    {
     "name": "stdout",
     "output_type": "stream",
     "text": [
      "Co\n"
     ]
    },
    {
     "data": {
      "image/png": "[encoded data removed]",
      "text/plain": [
       "<Figure size 432x288 with 1 Axes>"
      ]
     },
     "metadata": {
      "needs_background": "light"
     },
     "output_type": "display_data"
    },
    {
     "name": "stdout",
     "output_type": "stream",
     "text": [
      "Mo\n"
     ]
    },
    {
     "data": {
      "image/png": "[encoded data removed]",
      "text/plain": [
       "<Figure size 432x288 with 1 Axes>"
      ]
     },
     "metadata": {
      "needs_background": "light"
     },
     "output_type": "display_data"
    },
    {
     "name": "stdout",
     "output_type": "stream",
     "text": [
      "Ru\n"
     ]
    },
    {
     "data": {
      "image/png": "[encoded data removed]",
      "text/plain": [
       "<Figure size 432x288 with 1 Axes>"
      ]
     },
     "metadata": {
      "needs_background": "light"
     },
     "output_type": "display_data"
    },
    {
     "name": "stdout",
     "output_type": "stream",
     "text": [
      "Ta\n"
     ]
    },
    {
     "data": {
      "image/png": "[encoded data removed]",
      "text/plain": [
       "<Figure size 432x288 with 1 Axes>"
      ]
     },
     "metadata": {
      "needs_background": "light"
     },
     "output_type": "display_data"
    },
    {
     "name": "stdout",
     "output_type": "stream",
     "text": [
      "W\n"
     ]
    },
    {
     "data": {
      "image/png": "[encoded data removed]",
      "text/plain": [
       "<Figure size 432x288 with 1 Axes>"
      ]
     },
     "metadata": {
      "needs_background": "light"
     },
     "output_type": "display_data"
    },
    {
     "name": "stdout",
     "output_type": "stream",
     "text": [
      "Re\n"
     ]
    },
    {
     "data": {
      "image/png": "[encoded data removed]",
      "text/plain": [
       "<Figure size 432x288 with 1 Axes>"
      ]
     },
     "metadata": {
      "needs_background": "light"
     },
     "output_type": "display_data"
    },
    {
     "name": "stdout",
     "output_type": "stream",
     "text": [
      "Al_var\n"
     ]
    },
    {
     "data": {
      "image/png": "[encoded data removed]",
      "text/plain": [
       "<Figure size 432x288 with 1 Axes>"
      ]
     },
     "metadata": {
      "needs_background": "light"
     },
     "output_type": "display_data"
    },
    {
     "name": "stdout",
     "output_type": "stream",
     "text": [
      "Ti_var\n"
     ]
    },
    {
     "data": {
      "image/png": "[encoded data removed]",
      "text/plain": [
       "<Figure size 432x288 with 1 Axes>"
      ]
     },
     "metadata": {
      "needs_background": "light"
     },
     "output_type": "display_data"
    },
    {
     "name": "stdout",
     "output_type": "stream",
     "text": [
      "Cr_var\n"
     ]
    },
    {
     "data": {
      "image/png": "[encoded data removed]",
      "text/plain": [
       "<Figure size 432x288 with 1 Axes>"
      ]
     },
     "metadata": {
      "needs_background": "light"
     },
     "output_type": "display_data"
    },
    {
     "name": "stdout",
     "output_type": "stream",
     "text": [
      "Co_var\n"
     ]
    },
    {
     "data": {
      "image/png": "[encoded data removed]",
      "text/plain": [
       "<Figure size 432x288 with 1 Axes>"
      ]
     },
     "metadata": {
      "needs_background": "light"
     },
     "output_type": "display_data"
    },
    {
     "name": "stdout",
     "output_type": "stream",
     "text": [
      "Mo_var\n"
     ]
    },
    {
     "data": {
      "image/png": "[encoded data removed]",
      "text/plain": [
       "<Figure size 432x288 with 1 Axes>"
      ]
     },
     "metadata": {
      "needs_background": "light"
     },
     "output_type": "display_data"
    },
    {
     "name": "stdout",
     "output_type": "stream",
     "text": [
      "Ru_var\n"
     ]
    },
    {
     "data": {
      "image/png": "[encoded data removed]",
      "text/plain": [
       "<Figure size 432x288 with 1 Axes>"
      ]
     },
     "metadata": {
      "needs_background": "light"
     },
     "output_type": "display_data"
    },
    {
     "name": "stdout",
     "output_type": "stream",
     "text": [
      "Ta_var\n"
     ]
    },
    {
     "data": {
      "image/png": "[encoded data removed]",
      "text/plain": [
       "<Figure size 432x288 with 1 Axes>"
      ]
     },
     "metadata": {
      "needs_background": "light"
     },
     "output_type": "display_data"
    },
    {
     "name": "stdout",
     "output_type": "stream",
     "text": [
      "W_var\n"
     ]
    },
    {
     "data": {
      "image/png": "[encoded data removed]",
      "text/plain": [
       "<Figure size 432x288 with 1 Axes>"
      ]
     },
     "metadata": {
      "needs_background": "light"
     },
     "output_type": "display_data"
    },
    {
     "name": "stdout",
     "output_type": "stream",
     "text": [
      "Re_var\n"
     ]
    },
    {
     "data": {
      "image/png": "[encoded data removed]",
      "text/plain": [
       "<Figure size 432x288 with 1 Axes>"
      ]
     },
     "metadata": {
      "needs_background": "light"
     },
     "output_type": "display_data"
    },
    {
     "name": "stdout",
     "output_type": "stream",
     "text": [
      "T\n"
     ]
    },
    {
     "data": {
      "image/png": "[encoded data removed]",
      "text/plain": [
       "<Figure size 432x288 with 1 Axes>"
      ]
     },
     "metadata": {
      "needs_background": "light"
     },
     "output_type": "display_data"
    },
    {
     "name": "stdout",
     "output_type": "stream",
     "text": [
      "P_TCAPI_GammaPrimePhaseFractionMain_value\n"
     ]
    },
    {
     "data": {
      "image/png": "[encoded data removed]",
      "text/plain": [
       "<Figure size 432x288 with 1 Axes>"
      ]
     },
     "metadata": {
      "needs_background": "light"
     },
     "output_type": "display_data"
    },
    {
     "name": "stdout",
     "output_type": "stream",
     "text": [
      "P_TCAPI_SolidusTemperatureMain_value\n"
     ]
    },
    {
     "data": {
      "image/png": "[encoded data removed]",
      "text/plain": [
       "<Figure size 432x288 with 1 Axes>"
      ]
     },
     "metadata": {
      "needs_background": "light"
     },
     "output_type": "display_data"
    },
    {
     "name": "stdout",
     "output_type": "stream",
     "text": [
      "P_TCAPI_LiquidusTemperatureMain_value\n"
     ]
    },
    {
     "data": {
      "image/png": "[encoded data removed]",
      "text/plain": [
       "<Figure size 432x288 with 1 Axes>"
      ]
     },
     "metadata": {
      "needs_background": "light"
     },
     "output_type": "display_data"
    },
    {
     "name": "stdout",
     "output_type": "stream",
     "text": [
      "P_TCAPI_Density_CaronMain_value\n"
     ]
    },
    {
     "data": {
      "image/png": "[encoded data removed]",
      "text/plain": [
       "<Figure size 432x288 with 1 Axes>"
      ]
     },
     "metadata": {
      "needs_background": "light"
     },
     "output_type": "display_data"
    }
   ],
   "source": [
    "for col_name in df.columns:\n",
    "    print(col_name)\n",
    "    sns.boxplot(df[col_name])\n",
    "    plt.show()"
   ]
  },
  {
   "cell_type": "code",
   "execution_count": 23,
   "metadata": {},
   "outputs": [],
   "source": [
    "quantile_df = df.quantile(q=[0.25, 0.75]).T"
   ]
  },
  {
   "cell_type": "code",
   "execution_count": 24,
   "metadata": {},
   "outputs": [],
   "source": [
    "quantile_df.columns = ['Q1', 'Q3']"
   ]
  },
  {
   "cell_type": "code",
   "execution_count": 25,
   "metadata": {
    "scrolled": true
   },
   "outputs": [
    {
     "data": {
      "text/html": [
       "<div>\n",
       "<style scoped>\n",
       "    .dataframe tbody tr th:only-of-type {\n",
       "        vertical-align: middle;\n",
       "    }\n",
       "\n",
       "    .dataframe tbody tr th {\n",
       "        vertical-align: top;\n",
       "    }\n",
       "\n",
       "    .dataframe thead th {\n",
       "        text-align: right;\n",
       "    }\n",
       "</style>\n",
       "<table border=\"1\" class=\"dataframe\">\n",
       "  <thead>\n",
       "    <tr style=\"text-align: right;\">\n",
       "      <th></th>\n",
       "      <th>Q1</th>\n",
       "      <th>Q3</th>\n",
       "    </tr>\n",
       "  </thead>\n",
       "  <tbody>\n",
       "    <tr>\n",
       "      <th>Al</th>\n",
       "      <td>0.039625</td>\n",
       "      <td>0.055705</td>\n",
       "    </tr>\n",
       "    <tr>\n",
       "      <th>Ti</th>\n",
       "      <td>0.010876</td>\n",
       "      <td>0.031799</td>\n",
       "    </tr>\n",
       "    <tr>\n",
       "      <th>Cr</th>\n",
       "      <td>0.025157</td>\n",
       "      <td>0.075760</td>\n",
       "    </tr>\n",
       "    <tr>\n",
       "      <th>Co</th>\n",
       "      <td>0.058565</td>\n",
       "      <td>0.154196</td>\n",
       "    </tr>\n",
       "    <tr>\n",
       "      <th>Mo</th>\n",
       "      <td>0.014302</td>\n",
       "      <td>0.052548</td>\n",
       "    </tr>\n",
       "    <tr>\n",
       "      <th>Ru</th>\n",
       "      <td>0.006320</td>\n",
       "      <td>0.042088</td>\n",
       "    </tr>\n",
       "    <tr>\n",
       "      <th>Ta</th>\n",
       "      <td>0.021653</td>\n",
       "      <td>0.068051</td>\n",
       "    </tr>\n",
       "    <tr>\n",
       "      <th>W</th>\n",
       "      <td>0.017479</td>\n",
       "      <td>0.063436</td>\n",
       "    </tr>\n",
       "    <tr>\n",
       "      <th>Re</th>\n",
       "      <td>0.017998</td>\n",
       "      <td>0.064901</td>\n",
       "    </tr>\n",
       "    <tr>\n",
       "      <th>Al_var</th>\n",
       "      <td>0.000856</td>\n",
       "      <td>0.002238</td>\n",
       "    </tr>\n",
       "    <tr>\n",
       "      <th>Ti_var</th>\n",
       "      <td>0.000853</td>\n",
       "      <td>0.002253</td>\n",
       "    </tr>\n",
       "    <tr>\n",
       "      <th>Cr_var</th>\n",
       "      <td>0.000830</td>\n",
       "      <td>0.002252</td>\n",
       "    </tr>\n",
       "    <tr>\n",
       "      <th>Co_var</th>\n",
       "      <td>0.001000</td>\n",
       "      <td>0.002993</td>\n",
       "    </tr>\n",
       "    <tr>\n",
       "      <th>Mo_var</th>\n",
       "      <td>0.001000</td>\n",
       "      <td>0.003000</td>\n",
       "    </tr>\n",
       "    <tr>\n",
       "      <th>Ru_var</th>\n",
       "      <td>0.000542</td>\n",
       "      <td>0.002812</td>\n",
       "    </tr>\n",
       "    <tr>\n",
       "      <th>Ta_var</th>\n",
       "      <td>0.001246</td>\n",
       "      <td>0.003707</td>\n",
       "    </tr>\n",
       "    <tr>\n",
       "      <th>W_var</th>\n",
       "      <td>0.001232</td>\n",
       "      <td>0.003670</td>\n",
       "    </tr>\n",
       "    <tr>\n",
       "      <th>Re_var</th>\n",
       "      <td>0.001235</td>\n",
       "      <td>0.003658</td>\n",
       "    </tr>\n",
       "    <tr>\n",
       "      <th>T</th>\n",
       "      <td>1226.771021</td>\n",
       "      <td>1332.798427</td>\n",
       "    </tr>\n",
       "    <tr>\n",
       "      <th>P_TCAPI_GammaPrimePhaseFractionMain_value</th>\n",
       "      <td>38.613299</td>\n",
       "      <td>57.074071</td>\n",
       "    </tr>\n",
       "    <tr>\n",
       "      <th>P_TCAPI_SolidusTemperatureMain_value</th>\n",
       "      <td>1298.681375</td>\n",
       "      <td>1359.680741</td>\n",
       "    </tr>\n",
       "    <tr>\n",
       "      <th>P_TCAPI_LiquidusTemperatureMain_value</th>\n",
       "      <td>1356.035016</td>\n",
       "      <td>1400.249342</td>\n",
       "    </tr>\n",
       "    <tr>\n",
       "      <th>P_TCAPI_Density_CaronMain_value</th>\n",
       "      <td>8459.807687</td>\n",
       "      <td>8877.852301</td>\n",
       "    </tr>\n",
       "  </tbody>\n",
       "</table>\n",
       "</div>"
      ],
      "text/plain": [
       "                                                    Q1           Q3\n",
       "Al                                            0.039625     0.055705\n",
       "Ti                                            0.010876     0.031799\n",
       "Cr                                            0.025157     0.075760\n",
       "Co                                            0.058565     0.154196\n",
       "Mo                                            0.014302     0.052548\n",
       "Ru                                            0.006320     0.042088\n",
       "Ta                                            0.021653     0.068051\n",
       "W                                             0.017479     0.063436\n",
       "Re                                            0.017998     0.064901\n",
       "Al_var                                        0.000856     0.002238\n",
       "Ti_var                                        0.000853     0.002253\n",
       "Cr_var                                        0.000830     0.002252\n",
       "Co_var                                        0.001000     0.002993\n",
       "Mo_var                                        0.001000     0.003000\n",
       "Ru_var                                        0.000542     0.002812\n",
       "Ta_var                                        0.001246     0.003707\n",
       "W_var                                         0.001232     0.003670\n",
       "Re_var                                        0.001235     0.003658\n",
       "T                                          1226.771021  1332.798427\n",
       "P_TCAPI_GammaPrimePhaseFractionMain_value    38.613299    57.074071\n",
       "P_TCAPI_SolidusTemperatureMain_value       1298.681375  1359.680741\n",
       "P_TCAPI_LiquidusTemperatureMain_value      1356.035016  1400.249342\n",
       "P_TCAPI_Density_CaronMain_value            8459.807687  8877.852301"
      ]
     },
     "execution_count": 25,
     "metadata": {},
     "output_type": "execute_result"
    }
   ],
   "source": [
    "quantile_df"
   ]
  },
  {
   "cell_type": "code",
   "execution_count": null,
   "metadata": {},
   "outputs": [],
   "source": [
    "quantile_df['IQR'] = quantile_df['Q3']-quantile_df['Q1']"
   ]
  }
 ],
 "metadata": {
  "kernelspec": {
   "display_name": "Python 3",
   "language": "python",
   "name": "python3"
  },
  "language_info": {
   "codemirror_mode": {
    "name": "ipython",
    "version": 3
   },
   "file_extension": ".py",
   "mimetype": "text/x-python",
   "name": "python",
   "nbconvert_exporter": "python",
   "pygments_lexer": "ipython3",
   "version": "3.7.3"
  }
 },
 "nbformat": 4,
 "nbformat_minor": 2
}
