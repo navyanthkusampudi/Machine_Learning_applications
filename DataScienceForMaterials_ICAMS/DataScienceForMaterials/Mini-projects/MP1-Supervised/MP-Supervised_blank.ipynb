{
 "cells": [
  {
   "cell_type": "markdown",
   "metadata": {},
   "source": [
    "# Data science for materials: Mini project supervised learning"
   ]
  },
  {
   "cell_type": "markdown",
   "metadata": {},
   "source": [
    "The purpose of this mini project is to use supervised machine learning methods for materials science related topics."
   ]
  },
  {
   "cell_type": "markdown",
   "metadata": {},
   "source": [
    "### Mini projects and reports"
   ]
  },
  {
   "cell_type": "markdown",
   "metadata": {},
   "source": [
    "This is the first of a total of four mini projects that will be offered. For passing the course you need to ** submit three mini project reports by 10. August**, which will then be evaluated. \n",
    "\n",
    "Each report should be around 1500 words and contain a brief introduction to methods and data, a results and discussion section and a summary and conclusion section."
   ]
  },
  {
   "cell_type": "markdown",
   "metadata": {},
   "source": [
    "### Description of mini project on supervised learning"
   ]
  },
  {
   "cell_type": "markdown",
   "metadata": {},
   "source": [
    "You will build a supervised ML model(s) for the prediction of the solidus temperature in nickel-based superalloys. The required workflow is outlined in this notebook and comprises the following steps:\n",
    "\n",
    "1. Load data (from HDF5 file)\n",
    "2. Clean data (remove outliers, c.f. hands-on 2)\n",
    "3. Preprocess data: rescale the temperature using standard scaler or min-max scaler\n",
    "4. Choose a model validation strategy: \n",
    " - train/test split or cross-validation\n",
    "5. Choose a quality metric or several metrics and use it for all models you build:\n",
    " - $R^2$ coefficient\n",
    " - mean squared error (MSE)\n",
    " - root mean squared error (RMSE)\n",
    " - mean absolute error (MAE)\n",
    " - etc.\n",
    "6. Use the following methods for supervised ML:\n",
    " - linear regression\n",
    " - single decision tree\n",
    " - random forest\n",
    " - gradient boosting\n",
    " - neural network (from **sklearn** package)\n",
    " - optional: more complex neural network libraries, like **tensorflow** or **keras**\n",
    "7. Analyse feature importance (or coefficients in linear regression) where possible.\n",
    "8. Analyse model transferability/interpretability analysis (Fix input variable to some mean/median/arbitrary reasonable value, vary one of the variable in its domain range, calculate the ML model prediction and plot it. See example and code snippets below.)\n",
    "\n",
    " As all supervised ML methods except linear regression have hyperparameters, include an optimization of the hyperparameters (hyperoptimization) either by hand or using automatic grid search (http://scikit-learn.org/stable/modules/grid_search.html) in order to reach the best model quality metrics."
   ]
  },
  {
   "cell_type": "markdown",
   "metadata": {},
   "source": [
    "### The project report sould reflect the abovementioned steps and contain:\n",
    " - a short overview of the data: its origin, description, size before and after cleaning (number of rows and columns)\n",
    " - description and reasoning behind model validation strategy\n",
    " - chosen model quality metrics\n",
    " - an overview table for each model from p.6, where you should specify train/test or cross-validation errors and highlight the top few features, if applicable. POssibly include a plot of true values vs. model prediction\n",
    " - plots to support model interpretation"
   ]
  },
  {
   "cell_type": "markdown",
   "metadata": {},
   "source": [
    "# Follow this notebook and insert your solutions below"
   ]
  },
  {
   "cell_type": "markdown",
   "metadata": {},
   "source": [
    "Importing standard set of packages"
   ]
  },
  {
   "cell_type": "code",
   "execution_count": 1,
   "metadata": {},
   "outputs": [
    {
     "name": "stdout",
     "output_type": "stream",
     "text": [
      "Populating the interactive namespace from numpy and matplotlib\n"
     ]
    }
   ],
   "source": [
    "%pylab inline"
   ]
  },
  {
   "cell_type": "code",
   "execution_count": 2,
   "metadata": {
    "collapsed": true
   },
   "outputs": [],
   "source": [
    "import pandas as pd"
   ]
  },
  {
   "cell_type": "code",
   "execution_count": 3,
   "metadata": {
    "collapsed": true
   },
   "outputs": [],
   "source": [
    "import seaborn as sns"
   ]
  },
  {
   "cell_type": "markdown",
   "metadata": {},
   "source": [
    "# Reading the data"
   ]
  },
  {
   "cell_type": "markdown",
   "metadata": {},
   "source": [
    "Our original data is in file: Ni-superalloys-data_mod.hdf5"
   ]
  },
  {
   "cell_type": "code",
   "execution_count": 4,
   "metadata": {},
   "outputs": [],
   "source": [
    "df = pd.read_hdf(\"Ni-superalloys-data_mod.hdf5\")"
   ]
  },
  {
   "cell_type": "markdown",
   "metadata": {},
   "source": [
    "explore file and file size"
   ]
  },
  {
   "cell_type": "code",
   "execution_count": 5,
   "metadata": {},
   "outputs": [
    {
     "data": {
      "text/html": [
       "<div>\n",
       "<style scoped>\n",
       "    .dataframe tbody tr th:only-of-type {\n",
       "        vertical-align: middle;\n",
       "    }\n",
       "\n",
       "    .dataframe tbody tr th {\n",
       "        vertical-align: top;\n",
       "    }\n",
       "\n",
       "    .dataframe thead th {\n",
       "        text-align: right;\n",
       "    }\n",
       "</style>\n",
       "<table border=\"1\" class=\"dataframe\">\n",
       "  <thead>\n",
       "    <tr style=\"text-align: right;\">\n",
       "      <th></th>\n",
       "      <th>Al</th>\n",
       "      <th>Ti</th>\n",
       "      <th>Cr</th>\n",
       "      <th>Co</th>\n",
       "      <th>Mo</th>\n",
       "      <th>Ru</th>\n",
       "      <th>Ta</th>\n",
       "      <th>W</th>\n",
       "      <th>Re</th>\n",
       "      <th>Al_var</th>\n",
       "      <th>...</th>\n",
       "      <th>Mo_var</th>\n",
       "      <th>Ru_var</th>\n",
       "      <th>Ta_var</th>\n",
       "      <th>W_var</th>\n",
       "      <th>Re_var</th>\n",
       "      <th>T</th>\n",
       "      <th>P_TCAPI_GammaPrimePhaseFractionMain_value</th>\n",
       "      <th>P_TCAPI_SolidusTemperatureMain_value</th>\n",
       "      <th>P_TCAPI_LiquidusTemperatureMain_value</th>\n",
       "      <th>P_TCAPI_Density_CaronMain_value</th>\n",
       "    </tr>\n",
       "  </thead>\n",
       "  <tbody>\n",
       "    <tr>\n",
       "      <th>0</th>\n",
       "      <td>0.030004</td>\n",
       "      <td>0.034982</td>\n",
       "      <td>0.060390</td>\n",
       "      <td>0.179354</td>\n",
       "      <td>0.004069</td>\n",
       "      <td>0.070098</td>\n",
       "      <td>0.033860</td>\n",
       "      <td>0.018508</td>\n",
       "      <td>0.070210</td>\n",
       "      <td>0.002396</td>\n",
       "      <td>...</td>\n",
       "      <td>0.000191</td>\n",
       "      <td>0.001678</td>\n",
       "      <td>0.004871</td>\n",
       "      <td>0.004565</td>\n",
       "      <td>0.004747</td>\n",
       "      <td>1274.450089</td>\n",
       "      <td>30.776242</td>\n",
       "      <td>1329.063527</td>\n",
       "      <td>1390.850579</td>\n",
       "      <td>8687.461852</td>\n",
       "    </tr>\n",
       "    <tr>\n",
       "      <th>1</th>\n",
       "      <td>0.030007</td>\n",
       "      <td>0.033043</td>\n",
       "      <td>0.049549</td>\n",
       "      <td>0.152138</td>\n",
       "      <td>0.045881</td>\n",
       "      <td>0.041942</td>\n",
       "      <td>0.024419</td>\n",
       "      <td>0.063190</td>\n",
       "      <td>0.013271</td>\n",
       "      <td>0.003000</td>\n",
       "      <td>...</td>\n",
       "      <td>0.001000</td>\n",
       "      <td>0.002000</td>\n",
       "      <td>0.002000</td>\n",
       "      <td>0.002000</td>\n",
       "      <td>0.001000</td>\n",
       "      <td>1188.879240</td>\n",
       "      <td>38.051605</td>\n",
       "      <td>1331.448294</td>\n",
       "      <td>1378.137130</td>\n",
       "      <td>8616.105462</td>\n",
       "    </tr>\n",
       "    <tr>\n",
       "      <th>2</th>\n",
       "      <td>0.030010</td>\n",
       "      <td>0.025279</td>\n",
       "      <td>0.042238</td>\n",
       "      <td>0.048914</td>\n",
       "      <td>0.086289</td>\n",
       "      <td>0.023597</td>\n",
       "      <td>0.064696</td>\n",
       "      <td>0.023875</td>\n",
       "      <td>0.052492</td>\n",
       "      <td>0.001978</td>\n",
       "      <td>...</td>\n",
       "      <td>0.001181</td>\n",
       "      <td>0.002562</td>\n",
       "      <td>0.003372</td>\n",
       "      <td>0.004824</td>\n",
       "      <td>0.003075</td>\n",
       "      <td>1231.177894</td>\n",
       "      <td>38.014655</td>\n",
       "      <td>1330.248589</td>\n",
       "      <td>1377.186752</td>\n",
       "      <td>8915.481419</td>\n",
       "    </tr>\n",
       "    <tr>\n",
       "      <th>3</th>\n",
       "      <td>0.030010</td>\n",
       "      <td>0.028758</td>\n",
       "      <td>0.117597</td>\n",
       "      <td>0.129213</td>\n",
       "      <td>0.013396</td>\n",
       "      <td>0.081975</td>\n",
       "      <td>0.043861</td>\n",
       "      <td>0.105330</td>\n",
       "      <td>0.004558</td>\n",
       "      <td>0.002228</td>\n",
       "      <td>...</td>\n",
       "      <td>0.001827</td>\n",
       "      <td>0.002841</td>\n",
       "      <td>0.002321</td>\n",
       "      <td>0.003077</td>\n",
       "      <td>0.002766</td>\n",
       "      <td>1295.155371</td>\n",
       "      <td>34.460291</td>\n",
       "      <td>1257.819936</td>\n",
       "      <td>1338.662203</td>\n",
       "      <td>8873.510816</td>\n",
       "    </tr>\n",
       "    <tr>\n",
       "      <th>4</th>\n",
       "      <td>0.030011</td>\n",
       "      <td>0.055962</td>\n",
       "      <td>0.022606</td>\n",
       "      <td>0.096740</td>\n",
       "      <td>0.089257</td>\n",
       "      <td>0.016347</td>\n",
       "      <td>0.025636</td>\n",
       "      <td>0.030560</td>\n",
       "      <td>0.041867</td>\n",
       "      <td>0.002470</td>\n",
       "      <td>...</td>\n",
       "      <td>0.002601</td>\n",
       "      <td>0.001075</td>\n",
       "      <td>0.003116</td>\n",
       "      <td>0.001902</td>\n",
       "      <td>0.003975</td>\n",
       "      <td>1375.811214</td>\n",
       "      <td>35.945177</td>\n",
       "      <td>1295.418620</td>\n",
       "      <td>1349.375554</td>\n",
       "      <td>8611.575596</td>\n",
       "    </tr>\n",
       "  </tbody>\n",
       "</table>\n",
       "<p>5 rows × 23 columns</p>\n",
       "</div>"
      ],
      "text/plain": [
       "         Al        Ti        Cr        Co        Mo        Ru        Ta  \\\n",
       "0  0.030004  0.034982  0.060390  0.179354  0.004069  0.070098  0.033860   \n",
       "1  0.030007  0.033043  0.049549  0.152138  0.045881  0.041942  0.024419   \n",
       "2  0.030010  0.025279  0.042238  0.048914  0.086289  0.023597  0.064696   \n",
       "3  0.030010  0.028758  0.117597  0.129213  0.013396  0.081975  0.043861   \n",
       "4  0.030011  0.055962  0.022606  0.096740  0.089257  0.016347  0.025636   \n",
       "\n",
       "          W        Re    Al_var               ...                   Mo_var  \\\n",
       "0  0.018508  0.070210  0.002396               ...                 0.000191   \n",
       "1  0.063190  0.013271  0.003000               ...                 0.001000   \n",
       "2  0.023875  0.052492  0.001978               ...                 0.001181   \n",
       "3  0.105330  0.004558  0.002228               ...                 0.001827   \n",
       "4  0.030560  0.041867  0.002470               ...                 0.002601   \n",
       "\n",
       "     Ru_var    Ta_var     W_var    Re_var            T  \\\n",
       "0  0.001678  0.004871  0.004565  0.004747  1274.450089   \n",
       "1  0.002000  0.002000  0.002000  0.001000  1188.879240   \n",
       "2  0.002562  0.003372  0.004824  0.003075  1231.177894   \n",
       "3  0.002841  0.002321  0.003077  0.002766  1295.155371   \n",
       "4  0.001075  0.003116  0.001902  0.003975  1375.811214   \n",
       "\n",
       "   P_TCAPI_GammaPrimePhaseFractionMain_value  \\\n",
       "0                                  30.776242   \n",
       "1                                  38.051605   \n",
       "2                                  38.014655   \n",
       "3                                  34.460291   \n",
       "4                                  35.945177   \n",
       "\n",
       "   P_TCAPI_SolidusTemperatureMain_value  \\\n",
       "0                           1329.063527   \n",
       "1                           1331.448294   \n",
       "2                           1330.248589   \n",
       "3                           1257.819936   \n",
       "4                           1295.418620   \n",
       "\n",
       "   P_TCAPI_LiquidusTemperatureMain_value  P_TCAPI_Density_CaronMain_value  \n",
       "0                            1390.850579                      8687.461852  \n",
       "1                            1378.137130                      8616.105462  \n",
       "2                            1377.186752                      8915.481419  \n",
       "3                            1338.662203                      8873.510816  \n",
       "4                            1349.375554                      8611.575596  \n",
       "\n",
       "[5 rows x 23 columns]"
      ]
     },
     "execution_count": 5,
     "metadata": {},
     "output_type": "execute_result"
    }
   ],
   "source": [
    "df.head()"
   ]
  },
  {
   "cell_type": "code",
   "execution_count": 6,
   "metadata": {},
   "outputs": [
    {
     "data": {
      "text/plain": [
       "(57626, 23)"
      ]
     },
     "execution_count": 6,
     "metadata": {},
     "output_type": "execute_result"
    }
   ],
   "source": [
    "df.shape"
   ]
  },
  {
   "cell_type": "markdown",
   "metadata": {},
   "source": [
    "# Clean data"
   ]
  },
  {
   "cell_type": "markdown",
   "metadata": {},
   "source": [
    "Remove data outside of inter-quartile range. Use built-in to dataframe function .quantile at two values 0.25 and 0.75 which corresponds to Q1 and Q3. 25%-quantile, for example, means 25% of the data is below the quantile value."
   ]
  },
  {
   "cell_type": "code",
   "execution_count": 7,
   "metadata": {},
   "outputs": [
    {
     "data": {
      "text/html": [
       "<div>\n",
       "<style scoped>\n",
       "    .dataframe tbody tr th:only-of-type {\n",
       "        vertical-align: middle;\n",
       "    }\n",
       "\n",
       "    .dataframe tbody tr th {\n",
       "        vertical-align: top;\n",
       "    }\n",
       "\n",
       "    .dataframe thead th {\n",
       "        text-align: right;\n",
       "    }\n",
       "</style>\n",
       "<table border=\"1\" class=\"dataframe\">\n",
       "  <thead>\n",
       "    <tr style=\"text-align: right;\">\n",
       "      <th></th>\n",
       "      <th>Q1</th>\n",
       "      <th>Q3</th>\n",
       "    </tr>\n",
       "  </thead>\n",
       "  <tbody>\n",
       "    <tr>\n",
       "      <th>Al</th>\n",
       "      <td>0.039625</td>\n",
       "      <td>0.055705</td>\n",
       "    </tr>\n",
       "    <tr>\n",
       "      <th>Ti</th>\n",
       "      <td>0.010876</td>\n",
       "      <td>0.031799</td>\n",
       "    </tr>\n",
       "    <tr>\n",
       "      <th>Cr</th>\n",
       "      <td>0.025157</td>\n",
       "      <td>0.075760</td>\n",
       "    </tr>\n",
       "    <tr>\n",
       "      <th>Co</th>\n",
       "      <td>0.058565</td>\n",
       "      <td>0.154196</td>\n",
       "    </tr>\n",
       "    <tr>\n",
       "      <th>Mo</th>\n",
       "      <td>0.014302</td>\n",
       "      <td>0.052548</td>\n",
       "    </tr>\n",
       "    <tr>\n",
       "      <th>Ru</th>\n",
       "      <td>0.006320</td>\n",
       "      <td>0.042088</td>\n",
       "    </tr>\n",
       "    <tr>\n",
       "      <th>Ta</th>\n",
       "      <td>0.021653</td>\n",
       "      <td>0.068051</td>\n",
       "    </tr>\n",
       "    <tr>\n",
       "      <th>W</th>\n",
       "      <td>0.017479</td>\n",
       "      <td>0.063436</td>\n",
       "    </tr>\n",
       "    <tr>\n",
       "      <th>Re</th>\n",
       "      <td>0.017998</td>\n",
       "      <td>0.064901</td>\n",
       "    </tr>\n",
       "    <tr>\n",
       "      <th>Al_var</th>\n",
       "      <td>0.000856</td>\n",
       "      <td>0.002238</td>\n",
       "    </tr>\n",
       "    <tr>\n",
       "      <th>Ti_var</th>\n",
       "      <td>0.000853</td>\n",
       "      <td>0.002253</td>\n",
       "    </tr>\n",
       "    <tr>\n",
       "      <th>Cr_var</th>\n",
       "      <td>0.000830</td>\n",
       "      <td>0.002252</td>\n",
       "    </tr>\n",
       "    <tr>\n",
       "      <th>Co_var</th>\n",
       "      <td>0.001000</td>\n",
       "      <td>0.002993</td>\n",
       "    </tr>\n",
       "    <tr>\n",
       "      <th>Mo_var</th>\n",
       "      <td>0.001000</td>\n",
       "      <td>0.003000</td>\n",
       "    </tr>\n",
       "    <tr>\n",
       "      <th>Ru_var</th>\n",
       "      <td>0.000542</td>\n",
       "      <td>0.002812</td>\n",
       "    </tr>\n",
       "    <tr>\n",
       "      <th>Ta_var</th>\n",
       "      <td>0.001246</td>\n",
       "      <td>0.003707</td>\n",
       "    </tr>\n",
       "    <tr>\n",
       "      <th>W_var</th>\n",
       "      <td>0.001232</td>\n",
       "      <td>0.003670</td>\n",
       "    </tr>\n",
       "    <tr>\n",
       "      <th>Re_var</th>\n",
       "      <td>0.001235</td>\n",
       "      <td>0.003658</td>\n",
       "    </tr>\n",
       "    <tr>\n",
       "      <th>T</th>\n",
       "      <td>1226.771021</td>\n",
       "      <td>1332.798427</td>\n",
       "    </tr>\n",
       "    <tr>\n",
       "      <th>P_TCAPI_GammaPrimePhaseFractionMain_value</th>\n",
       "      <td>38.613299</td>\n",
       "      <td>57.074071</td>\n",
       "    </tr>\n",
       "    <tr>\n",
       "      <th>P_TCAPI_SolidusTemperatureMain_value</th>\n",
       "      <td>1298.681375</td>\n",
       "      <td>1359.680741</td>\n",
       "    </tr>\n",
       "    <tr>\n",
       "      <th>P_TCAPI_LiquidusTemperatureMain_value</th>\n",
       "      <td>1356.035016</td>\n",
       "      <td>1400.249342</td>\n",
       "    </tr>\n",
       "    <tr>\n",
       "      <th>P_TCAPI_Density_CaronMain_value</th>\n",
       "      <td>8459.807687</td>\n",
       "      <td>8877.852301</td>\n",
       "    </tr>\n",
       "  </tbody>\n",
       "</table>\n",
       "</div>"
      ],
      "text/plain": [
       "                                                    Q1           Q3\n",
       "Al                                            0.039625     0.055705\n",
       "Ti                                            0.010876     0.031799\n",
       "Cr                                            0.025157     0.075760\n",
       "Co                                            0.058565     0.154196\n",
       "Mo                                            0.014302     0.052548\n",
       "Ru                                            0.006320     0.042088\n",
       "Ta                                            0.021653     0.068051\n",
       "W                                             0.017479     0.063436\n",
       "Re                                            0.017998     0.064901\n",
       "Al_var                                        0.000856     0.002238\n",
       "Ti_var                                        0.000853     0.002253\n",
       "Cr_var                                        0.000830     0.002252\n",
       "Co_var                                        0.001000     0.002993\n",
       "Mo_var                                        0.001000     0.003000\n",
       "Ru_var                                        0.000542     0.002812\n",
       "Ta_var                                        0.001246     0.003707\n",
       "W_var                                         0.001232     0.003670\n",
       "Re_var                                        0.001235     0.003658\n",
       "T                                          1226.771021  1332.798427\n",
       "P_TCAPI_GammaPrimePhaseFractionMain_value    38.613299    57.074071\n",
       "P_TCAPI_SolidusTemperatureMain_value       1298.681375  1359.680741\n",
       "P_TCAPI_LiquidusTemperatureMain_value      1356.035016  1400.249342\n",
       "P_TCAPI_Density_CaronMain_value            8459.807687  8877.852301"
      ]
     },
     "execution_count": 7,
     "metadata": {},
     "output_type": "execute_result"
    }
   ],
   "source": [
    "quantile_df = df.quantile(q=[0.25,0.75]).T\n",
    "quantile_df.columns=[\"Q1\",\"Q3\"]\n",
    "quantile_df"
   ]
  },
  {
   "cell_type": "markdown",
   "metadata": {},
   "source": [
    "Calculate inter quantile range"
   ]
  },
  {
   "cell_type": "code",
   "execution_count": 8,
   "metadata": {
    "collapsed": true
   },
   "outputs": [],
   "source": [
    "quantile_df[\"IQR\"] = quantile_df[\"Q3\"]-quantile_df[\"Q1\"]"
   ]
  },
  {
   "cell_type": "code",
   "execution_count": 9,
   "metadata": {
    "collapsed": true
   },
   "outputs": [],
   "source": [
    "quantile_df[\"Lower_bound\"] = quantile_df[\"Q1\"]-1.5*quantile_df[\"IQR\"]\n",
    "quantile_df[\"Upper_bound\"] = quantile_df[\"Q3\"]+1.5*quantile_df[\"IQR\"]"
   ]
  },
  {
   "cell_type": "code",
   "execution_count": 10,
   "metadata": {},
   "outputs": [
    {
     "data": {
      "text/html": [
       "<div>\n",
       "<style scoped>\n",
       "    .dataframe tbody tr th:only-of-type {\n",
       "        vertical-align: middle;\n",
       "    }\n",
       "\n",
       "    .dataframe tbody tr th {\n",
       "        vertical-align: top;\n",
       "    }\n",
       "\n",
       "    .dataframe thead th {\n",
       "        text-align: right;\n",
       "    }\n",
       "</style>\n",
       "<table border=\"1\" class=\"dataframe\">\n",
       "  <thead>\n",
       "    <tr style=\"text-align: right;\">\n",
       "      <th></th>\n",
       "      <th>Q1</th>\n",
       "      <th>Q3</th>\n",
       "      <th>IQR</th>\n",
       "      <th>Lower_bound</th>\n",
       "      <th>Upper_bound</th>\n",
       "    </tr>\n",
       "  </thead>\n",
       "  <tbody>\n",
       "    <tr>\n",
       "      <th>Al</th>\n",
       "      <td>0.039625</td>\n",
       "      <td>0.055705</td>\n",
       "      <td>0.016080</td>\n",
       "      <td>0.015505</td>\n",
       "      <td>0.079826</td>\n",
       "    </tr>\n",
       "    <tr>\n",
       "      <th>Ti</th>\n",
       "      <td>0.010876</td>\n",
       "      <td>0.031799</td>\n",
       "      <td>0.020923</td>\n",
       "      <td>-0.020508</td>\n",
       "      <td>0.063183</td>\n",
       "    </tr>\n",
       "    <tr>\n",
       "      <th>Cr</th>\n",
       "      <td>0.025157</td>\n",
       "      <td>0.075760</td>\n",
       "      <td>0.050603</td>\n",
       "      <td>-0.050747</td>\n",
       "      <td>0.151664</td>\n",
       "    </tr>\n",
       "    <tr>\n",
       "      <th>Co</th>\n",
       "      <td>0.058565</td>\n",
       "      <td>0.154196</td>\n",
       "      <td>0.095631</td>\n",
       "      <td>-0.084881</td>\n",
       "      <td>0.297642</td>\n",
       "    </tr>\n",
       "    <tr>\n",
       "      <th>Mo</th>\n",
       "      <td>0.014302</td>\n",
       "      <td>0.052548</td>\n",
       "      <td>0.038246</td>\n",
       "      <td>-0.043068</td>\n",
       "      <td>0.109918</td>\n",
       "    </tr>\n",
       "    <tr>\n",
       "      <th>Ru</th>\n",
       "      <td>0.006320</td>\n",
       "      <td>0.042088</td>\n",
       "      <td>0.035768</td>\n",
       "      <td>-0.047331</td>\n",
       "      <td>0.095740</td>\n",
       "    </tr>\n",
       "    <tr>\n",
       "      <th>Ta</th>\n",
       "      <td>0.021653</td>\n",
       "      <td>0.068051</td>\n",
       "      <td>0.046397</td>\n",
       "      <td>-0.047942</td>\n",
       "      <td>0.137647</td>\n",
       "    </tr>\n",
       "    <tr>\n",
       "      <th>W</th>\n",
       "      <td>0.017479</td>\n",
       "      <td>0.063436</td>\n",
       "      <td>0.045957</td>\n",
       "      <td>-0.051457</td>\n",
       "      <td>0.132372</td>\n",
       "    </tr>\n",
       "    <tr>\n",
       "      <th>Re</th>\n",
       "      <td>0.017998</td>\n",
       "      <td>0.064901</td>\n",
       "      <td>0.046903</td>\n",
       "      <td>-0.052356</td>\n",
       "      <td>0.135254</td>\n",
       "    </tr>\n",
       "    <tr>\n",
       "      <th>Al_var</th>\n",
       "      <td>0.000856</td>\n",
       "      <td>0.002238</td>\n",
       "      <td>0.001382</td>\n",
       "      <td>-0.001217</td>\n",
       "      <td>0.004311</td>\n",
       "    </tr>\n",
       "    <tr>\n",
       "      <th>Ti_var</th>\n",
       "      <td>0.000853</td>\n",
       "      <td>0.002253</td>\n",
       "      <td>0.001400</td>\n",
       "      <td>-0.001247</td>\n",
       "      <td>0.004353</td>\n",
       "    </tr>\n",
       "    <tr>\n",
       "      <th>Cr_var</th>\n",
       "      <td>0.000830</td>\n",
       "      <td>0.002252</td>\n",
       "      <td>0.001422</td>\n",
       "      <td>-0.001302</td>\n",
       "      <td>0.004385</td>\n",
       "    </tr>\n",
       "    <tr>\n",
       "      <th>Co_var</th>\n",
       "      <td>0.001000</td>\n",
       "      <td>0.002993</td>\n",
       "      <td>0.001993</td>\n",
       "      <td>-0.001989</td>\n",
       "      <td>0.005982</td>\n",
       "    </tr>\n",
       "    <tr>\n",
       "      <th>Mo_var</th>\n",
       "      <td>0.001000</td>\n",
       "      <td>0.003000</td>\n",
       "      <td>0.002000</td>\n",
       "      <td>-0.002000</td>\n",
       "      <td>0.006000</td>\n",
       "    </tr>\n",
       "    <tr>\n",
       "      <th>Ru_var</th>\n",
       "      <td>0.000542</td>\n",
       "      <td>0.002812</td>\n",
       "      <td>0.002270</td>\n",
       "      <td>-0.002863</td>\n",
       "      <td>0.006216</td>\n",
       "    </tr>\n",
       "    <tr>\n",
       "      <th>Ta_var</th>\n",
       "      <td>0.001246</td>\n",
       "      <td>0.003707</td>\n",
       "      <td>0.002461</td>\n",
       "      <td>-0.002445</td>\n",
       "      <td>0.007398</td>\n",
       "    </tr>\n",
       "    <tr>\n",
       "      <th>W_var</th>\n",
       "      <td>0.001232</td>\n",
       "      <td>0.003670</td>\n",
       "      <td>0.002438</td>\n",
       "      <td>-0.002425</td>\n",
       "      <td>0.007327</td>\n",
       "    </tr>\n",
       "    <tr>\n",
       "      <th>Re_var</th>\n",
       "      <td>0.001235</td>\n",
       "      <td>0.003658</td>\n",
       "      <td>0.002423</td>\n",
       "      <td>-0.002399</td>\n",
       "      <td>0.007292</td>\n",
       "    </tr>\n",
       "    <tr>\n",
       "      <th>T</th>\n",
       "      <td>1226.771021</td>\n",
       "      <td>1332.798427</td>\n",
       "      <td>106.027406</td>\n",
       "      <td>1067.729912</td>\n",
       "      <td>1491.839536</td>\n",
       "    </tr>\n",
       "    <tr>\n",
       "      <th>P_TCAPI_GammaPrimePhaseFractionMain_value</th>\n",
       "      <td>38.613299</td>\n",
       "      <td>57.074071</td>\n",
       "      <td>18.460771</td>\n",
       "      <td>10.922142</td>\n",
       "      <td>84.765228</td>\n",
       "    </tr>\n",
       "    <tr>\n",
       "      <th>P_TCAPI_SolidusTemperatureMain_value</th>\n",
       "      <td>1298.681375</td>\n",
       "      <td>1359.680741</td>\n",
       "      <td>60.999366</td>\n",
       "      <td>1207.182325</td>\n",
       "      <td>1451.179791</td>\n",
       "    </tr>\n",
       "    <tr>\n",
       "      <th>P_TCAPI_LiquidusTemperatureMain_value</th>\n",
       "      <td>1356.035016</td>\n",
       "      <td>1400.249342</td>\n",
       "      <td>44.214325</td>\n",
       "      <td>1289.713529</td>\n",
       "      <td>1466.570830</td>\n",
       "    </tr>\n",
       "    <tr>\n",
       "      <th>P_TCAPI_Density_CaronMain_value</th>\n",
       "      <td>8459.807687</td>\n",
       "      <td>8877.852301</td>\n",
       "      <td>418.044615</td>\n",
       "      <td>7832.740764</td>\n",
       "      <td>9504.919224</td>\n",
       "    </tr>\n",
       "  </tbody>\n",
       "</table>\n",
       "</div>"
      ],
      "text/plain": [
       "                                                    Q1           Q3  \\\n",
       "Al                                            0.039625     0.055705   \n",
       "Ti                                            0.010876     0.031799   \n",
       "Cr                                            0.025157     0.075760   \n",
       "Co                                            0.058565     0.154196   \n",
       "Mo                                            0.014302     0.052548   \n",
       "Ru                                            0.006320     0.042088   \n",
       "Ta                                            0.021653     0.068051   \n",
       "W                                             0.017479     0.063436   \n",
       "Re                                            0.017998     0.064901   \n",
       "Al_var                                        0.000856     0.002238   \n",
       "Ti_var                                        0.000853     0.002253   \n",
       "Cr_var                                        0.000830     0.002252   \n",
       "Co_var                                        0.001000     0.002993   \n",
       "Mo_var                                        0.001000     0.003000   \n",
       "Ru_var                                        0.000542     0.002812   \n",
       "Ta_var                                        0.001246     0.003707   \n",
       "W_var                                         0.001232     0.003670   \n",
       "Re_var                                        0.001235     0.003658   \n",
       "T                                          1226.771021  1332.798427   \n",
       "P_TCAPI_GammaPrimePhaseFractionMain_value    38.613299    57.074071   \n",
       "P_TCAPI_SolidusTemperatureMain_value       1298.681375  1359.680741   \n",
       "P_TCAPI_LiquidusTemperatureMain_value      1356.035016  1400.249342   \n",
       "P_TCAPI_Density_CaronMain_value            8459.807687  8877.852301   \n",
       "\n",
       "                                                  IQR  Lower_bound  \\\n",
       "Al                                           0.016080     0.015505   \n",
       "Ti                                           0.020923    -0.020508   \n",
       "Cr                                           0.050603    -0.050747   \n",
       "Co                                           0.095631    -0.084881   \n",
       "Mo                                           0.038246    -0.043068   \n",
       "Ru                                           0.035768    -0.047331   \n",
       "Ta                                           0.046397    -0.047942   \n",
       "W                                            0.045957    -0.051457   \n",
       "Re                                           0.046903    -0.052356   \n",
       "Al_var                                       0.001382    -0.001217   \n",
       "Ti_var                                       0.001400    -0.001247   \n",
       "Cr_var                                       0.001422    -0.001302   \n",
       "Co_var                                       0.001993    -0.001989   \n",
       "Mo_var                                       0.002000    -0.002000   \n",
       "Ru_var                                       0.002270    -0.002863   \n",
       "Ta_var                                       0.002461    -0.002445   \n",
       "W_var                                        0.002438    -0.002425   \n",
       "Re_var                                       0.002423    -0.002399   \n",
       "T                                          106.027406  1067.729912   \n",
       "P_TCAPI_GammaPrimePhaseFractionMain_value   18.460771    10.922142   \n",
       "P_TCAPI_SolidusTemperatureMain_value        60.999366  1207.182325   \n",
       "P_TCAPI_LiquidusTemperatureMain_value       44.214325  1289.713529   \n",
       "P_TCAPI_Density_CaronMain_value            418.044615  7832.740764   \n",
       "\n",
       "                                           Upper_bound  \n",
       "Al                                            0.079826  \n",
       "Ti                                            0.063183  \n",
       "Cr                                            0.151664  \n",
       "Co                                            0.297642  \n",
       "Mo                                            0.109918  \n",
       "Ru                                            0.095740  \n",
       "Ta                                            0.137647  \n",
       "W                                             0.132372  \n",
       "Re                                            0.135254  \n",
       "Al_var                                        0.004311  \n",
       "Ti_var                                        0.004353  \n",
       "Cr_var                                        0.004385  \n",
       "Co_var                                        0.005982  \n",
       "Mo_var                                        0.006000  \n",
       "Ru_var                                        0.006216  \n",
       "Ta_var                                        0.007398  \n",
       "W_var                                         0.007327  \n",
       "Re_var                                        0.007292  \n",
       "T                                          1491.839536  \n",
       "P_TCAPI_GammaPrimePhaseFractionMain_value    84.765228  \n",
       "P_TCAPI_SolidusTemperatureMain_value       1451.179791  \n",
       "P_TCAPI_LiquidusTemperatureMain_value      1466.570830  \n",
       "P_TCAPI_Density_CaronMain_value            9504.919224  "
      ]
     },
     "execution_count": 10,
     "metadata": {},
     "output_type": "execute_result"
    }
   ],
   "source": [
    "quantile_df"
   ]
  },
  {
   "cell_type": "markdown",
   "metadata": {},
   "source": [
    "next iterate over the columns of the original dataframe and set those values that are outside the [Q1-1.5IQR,Q3+1.5IQR] range to Not-A-Number (NaN)"
   ]
  },
  {
   "cell_type": "code",
   "execution_count": 1,
   "metadata": {
    "collapsed": true
   },
   "outputs": [],
   "source": [
    "## INSERT YOUR CODE HERE"
   ]
  },
  {
   "cell_type": "markdown",
   "metadata": {},
   "source": [
    "# Data scaling"
   ]
  },
  {
   "cell_type": "code",
   "execution_count": 21,
   "metadata": {
    "collapsed": true
   },
   "outputs": [],
   "source": [
    "from sklearn.preprocessing import StandardScaler"
   ]
  },
  {
   "cell_type": "code",
   "execution_count": 15,
   "metadata": {
    "collapsed": true
   },
   "outputs": [],
   "source": [
    "X = df[['Al', 'Ti', 'Cr', 'Co', 'Mo', 'Ru', 'Ta', 'W', 'Re', 'Al_var', 'Ti_var',\n",
    "       'Cr_var', 'Co_var', 'Mo_var', 'Ru_var', 'Ta_var', 'W_var', 'Re_var', 'T']]"
   ]
  },
  {
   "cell_type": "code",
   "execution_count": 14,
   "metadata": {
    "collapsed": true
   },
   "outputs": [],
   "source": [
    "y = df[\"P_TCAPI_SolidusTemperatureMain_value\"]"
   ]
  },
  {
   "cell_type": "code",
   "execution_count": 22,
   "metadata": {
    "collapsed": true
   },
   "outputs": [],
   "source": [
    "standard_scaler = StandardScaler()"
   ]
  },
  {
   "cell_type": "markdown",
   "metadata": {},
   "source": [
    " The concentration of elements is naturally between 0 and 1, therefore only temperature should be rescaled"
   ]
  },
  {
   "cell_type": "code",
   "execution_count": 23,
   "metadata": {
    "collapsed": true
   },
   "outputs": [],
   "source": [
    "X_scaled=X.copy()"
   ]
  },
  {
   "cell_type": "code",
   "execution_count": 24,
   "metadata": {
    "collapsed": true
   },
   "outputs": [],
   "source": [
    "X_scaled[\"T\"]=standard_scaler.fit_transform(X[[\"T\"]])"
   ]
  },
  {
   "cell_type": "markdown",
   "metadata": {},
   "source": [
    "## Model validation strategy"
   ]
  },
  {
   "cell_type": "markdown",
   "metadata": {},
   "source": [
    "Train-test splitting. Make sense when you have enough data, usually more than 10k (10000) samples. "
   ]
  },
  {
   "cell_type": "code",
   "execution_count": 26,
   "metadata": {
    "collapsed": true
   },
   "outputs": [],
   "source": [
    "from sklearn.model_selection import train_test_split"
   ]
  },
  {
   "cell_type": "code",
   "execution_count": 27,
   "metadata": {},
   "outputs": [
    {
     "name": "stderr",
     "output_type": "stream",
     "text": [
      "/home/users/lysogy36/anaconda3/lib/python3.5/site-packages/sklearn/model_selection/_split.py:2026: FutureWarning: From version 0.21, test_size will always complement train_size unless both are specified.\n",
      "  FutureWarning)\n"
     ]
    }
   ],
   "source": [
    "X_train,X_test,y_train,y_test = ##YOUR CODE HERE"
   ]
  },
  {
   "cell_type": "code",
   "execution_count": null,
   "metadata": {},
   "outputs": [],
   "source": [
    "X_train.shape"
   ]
  },
  {
   "cell_type": "code",
   "execution_count": null,
   "metadata": {},
   "outputs": [],
   "source": [
    "y_train.shape"
   ]
  },
  {
   "cell_type": "code",
   "execution_count": null,
   "metadata": {},
   "outputs": [],
   "source": [
    "X_test.shape"
   ]
  },
  {
   "cell_type": "code",
   "execution_count": null,
   "metadata": {},
   "outputs": [],
   "source": [
    "y_test.shape"
   ]
  },
  {
   "cell_type": "markdown",
   "metadata": {},
   "source": [
    "# Quality metrics"
   ]
  },
  {
   "cell_type": "code",
   "execution_count": 32,
   "metadata": {
    "collapsed": true
   },
   "outputs": [],
   "source": [
    "from sklearn.metrics import mean_squared_error, mean_absolute_error, r2_score"
   ]
  },
  {
   "cell_type": "markdown",
   "metadata": {},
   "source": [
    "# Building the models"
   ]
  },
  {
   "cell_type": "markdown",
   "metadata": {},
   "source": [
    "Define a helper method for scoring"
   ]
  },
  {
   "cell_type": "code",
   "execution_count": 41,
   "metadata": {
    "collapsed": true
   },
   "outputs": [],
   "source": [
    "def my_scorer(regressor):\n",
    "    \"\"\"\n",
    "    Score a given regressor on both train and test datasets,\n",
    "    calculate metrics (RMSE, MAE, R2)\n",
    "    and plot true-vs-predicted values.\n",
    "    \n",
    "    Parameters:\n",
    "    -----------\n",
    "    regressor - a sklearn-compatible regressor that has .predict method\n",
    "    \n",
    "    \"\"\"\n",
    "    pred_train = regressor.predict(X_train)\n",
    "    pred_test = regressor.predict(X_test)\n",
    "    print(\"Train data:\")\n",
    "    print(\"RMSE = \",np.sqrt(mean_squared_error(y_train,pred_train)))\n",
    "    print(\"MAE = \",mean_absolute_error(y_train,pred_train))\n",
    "    print(\"R2 = \",r2_score(y_train,pred_train))\n",
    "    \n",
    "    print(\"Test data:\")\n",
    "    print(\"RMSE = \",np.sqrt(mean_squared_error(y_test,pred_test)))\n",
    "    print(\"MAE = \",mean_absolute_error(y_test,pred_test))\n",
    "    print(\"R2 = \",r2_score(y_test,pred_test))\n",
    "    \n",
    "    plt.scatter(y_train,pred_train,label=\"train\",color=\"blue\", alpha=0.1)\n",
    "    plt.scatter(y_test,pred_test,label=\"test\",color=\"green\", alpha=0.1)\n",
    "    min_val = min(min(y_train),min(y_test))\n",
    "    max_val = max(max(y_train),max(y_test))\n",
    "    plt.plot([min_val,max_val],[min_val,max_val])\n",
    "    plt.show()"
   ]
  },
  {
   "cell_type": "code",
   "execution_count": 42,
   "metadata": {
    "collapsed": true
   },
   "outputs": [],
   "source": [
    "def train_test_r2_metrics(regressor):\n",
    "    \"\"\"\n",
    "    Score a given regressor on both train and test datasets and\n",
    "    calculate R2 metrics.\n",
    "    \n",
    "\n",
    "    Parameters:\n",
    "    -----------\n",
    "      regressor - a sklearn-compatible regressor that has .predict method\n",
    "      \n",
    "    Returns:\n",
    "    --------\n",
    "        r2_train, r2_test\n",
    "    \"\"\"\n",
    "    pred_train = regressor.predict(X_train)\n",
    "    pred_test = regressor.predict(X_test)    \n",
    "    r2_train=r2_score(y_train,pred_train)\n",
    "    r2_test = r2_score(y_test,pred_test)    \n",
    "    return r2_train,r2_test"
   ]
  },
  {
   "cell_type": "markdown",
   "metadata": {},
   "source": [
    "## Linear regression"
   ]
  },
  {
   "cell_type": "code",
   "execution_count": 33,
   "metadata": {
    "collapsed": true
   },
   "outputs": [],
   "source": [
    "from sklearn.linear_model import LinearRegression"
   ]
  },
  {
   "cell_type": "code",
   "execution_count": 34,
   "metadata": {
    "collapsed": true
   },
   "outputs": [],
   "source": [
    "lr = LinearRegression()"
   ]
  },
  {
   "cell_type": "code",
   "execution_count": 35,
   "metadata": {},
   "outputs": [
    {
     "data": {
      "text/plain": [
       "LinearRegression(copy_X=True, fit_intercept=True, n_jobs=1, normalize=False)"
      ]
     },
     "execution_count": 35,
     "metadata": {},
     "output_type": "execute_result"
    }
   ],
   "source": [
    "lr.fit(X_train,y_train)"
   ]
  },
  {
   "cell_type": "markdown",
   "metadata": {},
   "source": [
    "We will write a helper function that will take a sklearn regressor and score it"
   ]
  },
  {
   "cell_type": "code",
   "execution_count": 43,
   "metadata": {},
   "outputs": [
    {
     "name": "stdout",
     "output_type": "stream",
     "text": [
      "Train data:\n",
      "RMSE =  8.304971948587154\n",
      "MAE =  6.272345884681204\n",
      "R2 =  0.9614146670489145\n",
      "Test data:\n",
      "RMSE =  8.313461825534866\n",
      "MAE =  6.262137632666303\n",
      "R2 =  0.9613136439349195\n"
     ]
    },
    {
     "data": {
      "image/png": "[encoded data removed]",
      "text/plain": [
       "<matplotlib.figure.Figure at 0x7f179ca59e48>"
      ]
     },
     "metadata": {},
     "output_type": "display_data"
    }
   ],
   "source": [
    "my_scorer(lr)"
   ]
  },
  {
   "cell_type": "markdown",
   "metadata": {},
   "source": [
    "Linear model looks like:\n",
    "\n",
    "$y = c_1 * x_1 + c_2 * x_2 + ... + c_n * x_n + b$\n",
    "\n",
    "Coefficients $c_1, c_2, ..., c_n$ are"
   ]
  },
  {
   "cell_type": "code",
   "execution_count": 44,
   "metadata": {},
   "outputs": [
    {
     "data": {
      "text/plain": [
       "array([-1.69411356e+03, -1.91165202e+03, -7.83543336e+02, -2.98668783e+02,\n",
       "       -7.29766063e+02, -4.21213818e+02, -1.07637596e+03, -3.35784307e+02,\n",
       "       -1.25560290e+02, -1.40896802e+01,  3.09581086e+01,  1.26728945e+02,\n",
       "        1.19486316e+01,  1.30131762e-01,  8.04112953e+01, -3.93255603e+01,\n",
       "        4.16181941e+01, -1.83501657e+01, -1.86801946e-01])"
      ]
     },
     "execution_count": 44,
     "metadata": {},
     "output_type": "execute_result"
    }
   ],
   "source": [
    "lr.coef_"
   ]
  },
  {
   "cell_type": "markdown",
   "metadata": {},
   "source": [
    "and bias term $b$ is "
   ]
  },
  {
   "cell_type": "code",
   "execution_count": 45,
   "metadata": {},
   "outputs": [
    {
     "data": {
      "text/plain": [
       "1628.1640742336522"
      ]
     },
     "execution_count": 45,
     "metadata": {},
     "output_type": "execute_result"
    }
   ],
   "source": [
    "lr.intercept_"
   ]
  },
  {
   "cell_type": "markdown",
   "metadata": {},
   "source": [
    "Combine coefficients and variables name together in dataframe and sort it by coefficient values.\n",
    "\n",
    "This can give an idea of the **feature importance**. We are able to compare the coefficients because the variables were reduced to a similar scale."
   ]
  },
  {
   "cell_type": "code",
   "execution_count": 46,
   "metadata": {},
   "outputs": [
    {
     "data": {
      "text/html": [
       "<div>\n",
       "<style scoped>\n",
       "    .dataframe tbody tr th:only-of-type {\n",
       "        vertical-align: middle;\n",
       "    }\n",
       "\n",
       "    .dataframe tbody tr th {\n",
       "        vertical-align: top;\n",
       "    }\n",
       "\n",
       "    .dataframe thead th {\n",
       "        text-align: right;\n",
       "    }\n",
       "</style>\n",
       "<table border=\"1\" class=\"dataframe\">\n",
       "  <thead>\n",
       "    <tr style=\"text-align: right;\">\n",
       "      <th></th>\n",
       "      <th>coeff</th>\n",
       "      <th>label</th>\n",
       "    </tr>\n",
       "  </thead>\n",
       "  <tbody>\n",
       "    <tr>\n",
       "      <th>11</th>\n",
       "      <td>126.728945</td>\n",
       "      <td>Cr_var</td>\n",
       "    </tr>\n",
       "    <tr>\n",
       "      <th>14</th>\n",
       "      <td>80.411295</td>\n",
       "      <td>Ru_var</td>\n",
       "    </tr>\n",
       "    <tr>\n",
       "      <th>16</th>\n",
       "      <td>41.618194</td>\n",
       "      <td>W_var</td>\n",
       "    </tr>\n",
       "    <tr>\n",
       "      <th>10</th>\n",
       "      <td>30.958109</td>\n",
       "      <td>Ti_var</td>\n",
       "    </tr>\n",
       "    <tr>\n",
       "      <th>12</th>\n",
       "      <td>11.948632</td>\n",
       "      <td>Co_var</td>\n",
       "    </tr>\n",
       "    <tr>\n",
       "      <th>13</th>\n",
       "      <td>0.130132</td>\n",
       "      <td>Mo_var</td>\n",
       "    </tr>\n",
       "    <tr>\n",
       "      <th>18</th>\n",
       "      <td>-0.186802</td>\n",
       "      <td>T</td>\n",
       "    </tr>\n",
       "    <tr>\n",
       "      <th>9</th>\n",
       "      <td>-14.089680</td>\n",
       "      <td>Al_var</td>\n",
       "    </tr>\n",
       "    <tr>\n",
       "      <th>17</th>\n",
       "      <td>-18.350166</td>\n",
       "      <td>Re_var</td>\n",
       "    </tr>\n",
       "    <tr>\n",
       "      <th>15</th>\n",
       "      <td>-39.325560</td>\n",
       "      <td>Ta_var</td>\n",
       "    </tr>\n",
       "    <tr>\n",
       "      <th>8</th>\n",
       "      <td>-125.560290</td>\n",
       "      <td>Re</td>\n",
       "    </tr>\n",
       "    <tr>\n",
       "      <th>3</th>\n",
       "      <td>-298.668783</td>\n",
       "      <td>Co</td>\n",
       "    </tr>\n",
       "    <tr>\n",
       "      <th>7</th>\n",
       "      <td>-335.784307</td>\n",
       "      <td>W</td>\n",
       "    </tr>\n",
       "    <tr>\n",
       "      <th>5</th>\n",
       "      <td>-421.213818</td>\n",
       "      <td>Ru</td>\n",
       "    </tr>\n",
       "    <tr>\n",
       "      <th>4</th>\n",
       "      <td>-729.766063</td>\n",
       "      <td>Mo</td>\n",
       "    </tr>\n",
       "    <tr>\n",
       "      <th>2</th>\n",
       "      <td>-783.543336</td>\n",
       "      <td>Cr</td>\n",
       "    </tr>\n",
       "    <tr>\n",
       "      <th>6</th>\n",
       "      <td>-1076.375958</td>\n",
       "      <td>Ta</td>\n",
       "    </tr>\n",
       "    <tr>\n",
       "      <th>0</th>\n",
       "      <td>-1694.113555</td>\n",
       "      <td>Al</td>\n",
       "    </tr>\n",
       "    <tr>\n",
       "      <th>1</th>\n",
       "      <td>-1911.652018</td>\n",
       "      <td>Ti</td>\n",
       "    </tr>\n",
       "  </tbody>\n",
       "</table>\n",
       "</div>"
      ],
      "text/plain": [
       "          coeff   label\n",
       "11   126.728945  Cr_var\n",
       "14    80.411295  Ru_var\n",
       "16    41.618194   W_var\n",
       "10    30.958109  Ti_var\n",
       "12    11.948632  Co_var\n",
       "13     0.130132  Mo_var\n",
       "18    -0.186802       T\n",
       "9    -14.089680  Al_var\n",
       "17   -18.350166  Re_var\n",
       "15   -39.325560  Ta_var\n",
       "8   -125.560290      Re\n",
       "3   -298.668783      Co\n",
       "7   -335.784307       W\n",
       "5   -421.213818      Ru\n",
       "4   -729.766063      Mo\n",
       "2   -783.543336      Cr\n",
       "6  -1076.375958      Ta\n",
       "0  -1694.113555      Al\n",
       "1  -1911.652018      Ti"
      ]
     },
     "execution_count": 46,
     "metadata": {},
     "output_type": "execute_result"
    }
   ],
   "source": [
    "pd.DataFrame({\"label\":X_scaled.columns, \"coeff\":lr.coef_}).sort_values(\"coeff\",ascending = False)"
   ]
  },
  {
   "cell_type": "markdown",
   "metadata": {},
   "source": [
    "## Decision tree"
   ]
  },
  {
   "cell_type": "code",
   "execution_count": 47,
   "metadata": {
    "collapsed": true
   },
   "outputs": [],
   "source": [
    "from sklearn.tree import DecisionTreeRegressor"
   ]
  },
  {
   "cell_type": "code",
   "execution_count": 2,
   "metadata": {
    "collapsed": true
   },
   "outputs": [],
   "source": [
    "# YOUR CODE HERE"
   ]
  },
  {
   "cell_type": "markdown",
   "metadata": {},
   "source": [
    "## Ensemble methods: random forest"
   ]
  },
  {
   "cell_type": "markdown",
   "metadata": {},
   "source": [
    "Ensemble methods combine the prediciton of several **weak learners** (i.e. decision trees with small max_depth) "
   ]
  },
  {
   "cell_type": "code",
   "execution_count": 56,
   "metadata": {
    "collapsed": true
   },
   "outputs": [],
   "source": [
    "from sklearn.ensemble import RandomForestRegressor"
   ]
  },
  {
   "cell_type": "code",
   "execution_count": 2,
   "metadata": {
    "collapsed": true
   },
   "outputs": [],
   "source": [
    "# YOUR CODE HERE"
   ]
  },
  {
   "cell_type": "markdown",
   "metadata": {},
   "source": [
    "# Gradient boosting"
   ]
  },
  {
   "cell_type": "code",
   "execution_count": 59,
   "metadata": {
    "collapsed": true
   },
   "outputs": [],
   "source": [
    "from sklearn.ensemble import GradientBoostingRegressor"
   ]
  },
  {
   "cell_type": "code",
   "execution_count": 2,
   "metadata": {
    "collapsed": true
   },
   "outputs": [],
   "source": [
    "# YOUR CODE HERE"
   ]
  },
  {
   "cell_type": "markdown",
   "metadata": {},
   "source": [
    "# Neural network"
   ]
  },
  {
   "cell_type": "code",
   "execution_count": 64,
   "metadata": {
    "collapsed": true
   },
   "outputs": [],
   "source": [
    "from sklearn.neural_network import MLPRegressor"
   ]
  },
  {
   "cell_type": "code",
   "execution_count": 2,
   "metadata": {
    "collapsed": true
   },
   "outputs": [],
   "source": [
    "# YOUR CODE HERE"
   ]
  },
  {
   "cell_type": "markdown",
   "metadata": {},
   "source": [
    "# Transferability analysis"
   ]
  },
  {
   "cell_type": "markdown",
   "metadata": {},
   "source": [
    "For a basic transferability analysis plot model predictions as a function of one variable while the rest of variables are fixed."
   ]
  },
  {
   "cell_type": "markdown",
   "metadata": {},
   "source": [
    "Take mean value over all input variables"
   ]
  },
  {
   "cell_type": "code",
   "execution_count": 180,
   "metadata": {},
   "outputs": [
    {
     "data": {
      "text/plain": [
       "Al        0.048014\n",
       "Ti        0.022493\n",
       "Cr        0.050807\n",
       "Co        0.105253\n",
       "Mo        0.035011\n",
       "Ru        0.026068\n",
       "Ta        0.045693\n",
       "W         0.042101\n",
       "Re        0.043364\n",
       "Al_var    0.001537\n",
       "Ti_var    0.001541\n",
       "Cr_var    0.001534\n",
       "Co_var    0.001981\n",
       "Mo_var    0.001984\n",
       "Ru_var    0.001695\n",
       "Ta_var    0.002461\n",
       "W_var     0.002445\n",
       "Re_var    0.002438\n",
       "T         0.003497\n",
       "dtype: float64"
      ]
     },
     "execution_count": 180,
     "metadata": {},
     "output_type": "execute_result"
    }
   ],
   "source": [
    "X_train.mean()"
   ]
  },
  {
   "cell_type": "markdown",
   "metadata": {},
   "source": [
    "Convert to numpy array"
   ]
  },
  {
   "cell_type": "code",
   "execution_count": 132,
   "metadata": {
    "collapsed": true
   },
   "outputs": [],
   "source": [
    "mean_val = X_train.mean().values\n",
    "mean_val"
   ]
  },
  {
   "cell_type": "markdown",
   "metadata": {},
   "source": [
    "Create an input array with all mean values (by creating an array of ones with corresponding shape and multiplying it by the mean values)"
   ]
  },
  {
   "cell_type": "code",
   "execution_count": 207,
   "metadata": {
    "collapsed": true
   },
   "outputs": [],
   "source": [
    "n_points = 50"
   ]
  },
  {
   "cell_type": "code",
   "execution_count": 208,
   "metadata": {
    "collapsed": true
   },
   "outputs": [],
   "source": [
    "x_transf=np.ones((n_points,X_train.shape[1]))"
   ]
  },
  {
   "cell_type": "code",
   "execution_count": 209,
   "metadata": {
    "collapsed": true
   },
   "outputs": [],
   "source": [
    "x_transf*=mean_val"
   ]
  },
  {
   "cell_type": "markdown",
   "metadata": {},
   "source": [
    "Put your models and corresponding names into a list"
   ]
  },
  {
   "cell_type": "code",
   "execution_count": null,
   "metadata": {
    "collapsed": true
   },
   "outputs": [],
   "source": [
    "#ml_models = [lr, tree_regressor, random_forest, gbr, mlp]\n",
    "ml_models = #YOUR CODE HERE"
   ]
  },
  {
   "cell_type": "code",
   "execution_count": null,
   "metadata": {
    "collapsed": true
   },
   "outputs": [],
   "source": [
    "#ml_models_names = [\"LinReg\",\"Decision Tree\",\"Random Forest\",\"Gradieng Boosting\",\"NN\"]\n",
    "ml_models_names = # YOUR CODE HERE"
   ]
  },
  {
   "cell_type": "markdown",
   "metadata": {},
   "source": [
    "Vary concentration from 0.9 min to 1.1 max"
   ]
  },
  {
   "cell_type": "code",
   "execution_count": null,
   "metadata": {
    "collapsed": true
   },
   "outputs": [],
   "source": [
    "ymin=y_train.min()\n",
    "ymax=y_train.max()"
   ]
  },
  {
   "cell_type": "code",
   "execution_count": null,
   "metadata": {
    "collapsed": true
   },
   "outputs": [],
   "source": [
    "# iterate over each column in input data\n",
    "for col_ind in range(len(X_train.columns)):\n",
    "    col_name = X_train.columns[col_ind]\n",
    "    print(col_name)\n",
    "    # calculate min and max value for given column\n",
    "    xmin= X_train.iloc[:,col_ind].min()\n",
    "    xmax=X_train.iloc[:,col_ind].max()\n",
    "    # sample a slightly wider region - from 0.9*xmin to 1.1*xmax\n",
    "    transf_val=np.linspace(xmin*0.9,\n",
    "                           xmax*1.1,\n",
    "                           n_points)    \n",
    "    #Create an input array of corresponding form filled with ones\n",
    "    x_transf=np.ones((n_points,X_train.shape[1]))\n",
    "    # multiplying it by the mean values\n",
    "    x_transf*=mean_val\n",
    "    # replace column under consideration with sampled values from 0.9*xmin to 1.1*xmax\n",
    "    x_transf[:,col_ind] = transf_val    \n",
    "    \n",
    "    #loop over ML models and corresponding names\n",
    "    for reg,name in zip(ml_models,ml_models_names):\n",
    "        # make a vector of predictions\n",
    "        y_transf = reg.predict(x_transf)\n",
    "        # plot it as a function of sampled values for considered column\n",
    "        plt.plot(transf_val, y_transf, label=name)\n",
    "    plt.legend()\n",
    "    plt.xlabel(col_name)\n",
    "    plt.ylabel(\"Solidus T, K\")\n",
    "    # shade a domain of X and Y variables, for which data were presented in train set\n",
    "    plt.fill_betweenx([ymin,ymax],[xmin,xmin],[xmax,xmax],alpha=0.1)\n",
    "    plt.show()"
   ]
  },
  {
   "cell_type": "code",
   "execution_count": null,
   "metadata": {
    "collapsed": true
   },
   "outputs": [],
   "source": []
  }
 ],
 "metadata": {
  "kernelspec": {
   "display_name": "Python [default]",
   "language": "python",
   "name": "python3"
  },
  "language_info": {
   "codemirror_mode": {
    "name": "ipython",
    "version": 3
   },
   "file_extension": ".py",
   "mimetype": "text/x-python",
   "name": "python",
   "nbconvert_exporter": "python",
   "pygments_lexer": "ipython3",
   "version": "3.5.2"
  },
  "toc": {
   "colors": {
    "hover_highlight": "#DAA520",
    "running_highlight": "#FF0000",
    "selected_highlight": "#FFD700"
   },
   "moveMenuLeft": true,
   "nav_menu": {
    "height": "243px",
    "width": "252px"
   },
   "navigate_menu": true,
   "number_sections": true,
   "sideBar": true,
   "threshold": 4,
   "toc_cell": false,
   "toc_section_display": "block",
   "toc_window_display": false,
   "widenNotebook": false
  }
 },
 "nbformat": 4,
 "nbformat_minor": 2
}
