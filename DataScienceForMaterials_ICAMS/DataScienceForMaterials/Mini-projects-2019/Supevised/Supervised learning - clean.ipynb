{
 "cells": [
  {
   "cell_type": "markdown",
   "metadata": {},
   "source": [
    "# Import libraries"
   ]
  },
  {
   "cell_type": "code",
   "execution_count": null,
   "metadata": {
    "ExecuteTime": {
     "end_time": "2019-07-02T21:00:53.250576Z",
     "start_time": "2019-07-02T21:00:49.767674Z"
    }
   },
   "outputs": [],
   "source": [
    "%pylab inline"
   ]
  },
  {
   "cell_type": "code",
   "execution_count": null,
   "metadata": {
    "ExecuteTime": {
     "end_time": "2019-07-02T21:00:58.450500Z",
     "start_time": "2019-07-02T21:00:55.538715Z"
    }
   },
   "outputs": [],
   "source": [
    "import seaborn as sns"
   ]
  },
  {
   "cell_type": "code",
   "execution_count": null,
   "metadata": {
    "ExecuteTime": {
     "end_time": "2019-07-02T21:01:06.758137Z",
     "start_time": "2019-07-02T21:01:06.748595Z"
    }
   },
   "outputs": [],
   "source": [
    "import pandas as pd"
   ]
  },
  {
   "cell_type": "markdown",
   "metadata": {},
   "source": [
    "# Read the data"
   ]
  },
  {
   "cell_type": "markdown",
   "metadata": {},
   "source": [
    "Data from the **From Organized High-Throughput Data to Phenomenological Theory using Machine Learning: The Example of Dielectric Breakdown**  (https://pubs.acs.org/doi/10.1021/acs.chemmater.5b04109)"
   ]
  },
  {
   "cell_type": "code",
   "execution_count": null,
   "metadata": {
    "ExecuteTime": {
     "end_time": "2019-07-02T21:01:10.847220Z",
     "start_time": "2019-07-02T21:01:09.018101Z"
    }
   },
   "outputs": [],
   "source": [
    "df=pd.read_csv(\"data.txt\", sep=\"\\s+\")\n",
    "df"
   ]
  },
  {
   "cell_type": "code",
   "execution_count": null,
   "metadata": {
    "ExecuteTime": {
     "end_time": "2019-07-02T21:01:11.055171Z",
     "start_time": "2019-07-02T21:01:10.859927Z"
    }
   },
   "outputs": [],
   "source": [
    "df.info()"
   ]
  },
  {
   "cell_type": "code",
   "execution_count": null,
   "metadata": {
    "ExecuteTime": {
     "end_time": "2019-07-02T21:01:11.628904Z",
     "start_time": "2019-07-02T21:01:11.064224Z"
    }
   },
   "outputs": [],
   "source": [
    "df.describe()"
   ]
  },
  {
   "cell_type": "markdown",
   "metadata": {},
   "source": [
    "## One-hot encoding of the categorical variable"
   ]
  },
  {
   "cell_type": "code",
   "execution_count": null,
   "metadata": {
    "ExecuteTime": {
     "end_time": "2019-07-02T21:02:22.139801Z",
     "start_time": "2019-07-02T21:02:22.129330Z"
    }
   },
   "outputs": [],
   "source": [
    "from sklearn.preprocessing import OneHotEncoder"
   ]
  },
  {
   "cell_type": "code",
   "execution_count": null,
   "metadata": {
    "ExecuteTime": {
     "end_time": "2019-07-02T21:02:22.419398Z",
     "start_time": "2019-07-02T21:02:22.384037Z"
    }
   },
   "outputs": [],
   "source": [
    "df.Structure.unique()"
   ]
  },
  {
   "cell_type": "code",
   "execution_count": null,
   "metadata": {
    "ExecuteTime": {
     "end_time": "2019-07-02T21:02:22.567094Z",
     "start_time": "2019-07-02T21:02:22.551498Z"
    }
   },
   "outputs": [],
   "source": [
    "ohe = OneHotEncoder()"
   ]
  },
  {
   "cell_type": "code",
   "execution_count": null,
   "metadata": {
    "ExecuteTime": {
     "end_time": "2019-07-02T21:02:22.994689Z",
     "start_time": "2019-07-02T21:02:22.976579Z"
    }
   },
   "outputs": [],
   "source": [
    "structure_ohe=ohe.fit_transform(df[\"Structure\"].values.reshape(-1,1))"
   ]
  },
  {
   "cell_type": "code",
   "execution_count": null,
   "metadata": {
    "ExecuteTime": {
     "end_time": "2019-07-02T21:02:23.171388Z",
     "start_time": "2019-07-02T21:02:23.155124Z"
    }
   },
   "outputs": [],
   "source": [
    "structure_ohe=structure_ohe.todense()"
   ]
  },
  {
   "cell_type": "code",
   "execution_count": null,
   "metadata": {
    "ExecuteTime": {
     "end_time": "2019-07-02T21:02:23.576025Z",
     "start_time": "2019-07-02T21:02:23.519572Z"
    }
   },
   "outputs": [],
   "source": [
    "ohe.categories_[0]"
   ]
  },
  {
   "cell_type": "code",
   "execution_count": null,
   "metadata": {
    "ExecuteTime": {
     "end_time": "2019-07-02T21:02:23.772778Z",
     "start_time": "2019-07-02T21:02:23.706185Z"
    }
   },
   "outputs": [],
   "source": [
    "ohe_df=pd.DataFrame(structure_ohe,columns=ohe.categories_[0])\n",
    "ohe_df"
   ]
  },
  {
   "cell_type": "code",
   "execution_count": null,
   "metadata": {
    "ExecuteTime": {
     "end_time": "2019-07-02T21:02:24.547553Z",
     "start_time": "2019-07-02T21:02:24.525367Z"
    }
   },
   "outputs": [],
   "source": [
    "tot_df=pd.concat([df,ohe_df], axis=1)"
   ]
  },
  {
   "cell_type": "code",
   "execution_count": null,
   "metadata": {
    "ExecuteTime": {
     "end_time": "2019-07-02T21:02:25.283443Z",
     "start_time": "2019-07-02T21:02:25.081975Z"
    },
    "scrolled": true
   },
   "outputs": [],
   "source": [
    "tot_df"
   ]
  },
  {
   "cell_type": "code",
   "execution_count": null,
   "metadata": {
    "ExecuteTime": {
     "end_time": "2019-07-02T21:02:25.949437Z",
     "start_time": "2019-07-02T21:02:25.920650Z"
    }
   },
   "outputs": [],
   "source": [
    "tot_df.columns"
   ]
  },
  {
   "cell_type": "markdown",
   "metadata": {},
   "source": [
    "Selection of the columns for training"
   ]
  },
  {
   "cell_type": "code",
   "execution_count": null,
   "metadata": {
    "ExecuteTime": {
     "end_time": "2019-07-02T21:02:27.608074Z",
     "start_time": "2019-07-02T21:02:27.568665Z"
    }
   },
   "outputs": [],
   "source": [
    "X = tot_df[['Eg', 'omega_max', 'omega_mean', 'epsilon_e', 'epsilon_tot', 'dNN', 'rho', 'M',  'CC', 'RS','ZB']]\n",
    "#X = tot_df[['Eg', 'omega_max', 'omega_mean', 'epsilon_e', 'epsilon_tot', 'dNN', 'rho', 'M']]"
   ]
  },
  {
   "cell_type": "code",
   "execution_count": null,
   "metadata": {
    "ExecuteTime": {
     "end_time": "2019-07-02T21:02:28.329752Z",
     "start_time": "2019-07-02T21:02:28.320692Z"
    }
   },
   "outputs": [],
   "source": [
    "y = tot_df['Fb']"
   ]
  },
  {
   "cell_type": "code",
   "execution_count": null,
   "metadata": {
    "ExecuteTime": {
     "end_time": "2019-07-02T21:02:29.010865Z",
     "start_time": "2019-07-02T21:02:28.983445Z"
    }
   },
   "outputs": [],
   "source": [
    "X.shape"
   ]
  },
  {
   "cell_type": "code",
   "execution_count": null,
   "metadata": {
    "ExecuteTime": {
     "end_time": "2019-07-02T21:02:29.724352Z",
     "start_time": "2019-07-02T21:02:29.702168Z"
    }
   },
   "outputs": [],
   "source": [
    "y.shape"
   ]
  },
  {
   "cell_type": "markdown",
   "metadata": {},
   "source": [
    "# Perform a standard scaling of the features for better convergence"
   ]
  },
  {
   "cell_type": "code",
   "execution_count": null,
   "metadata": {
    "ExecuteTime": {
     "end_time": "2019-07-02T21:02:41.843319Z",
     "start_time": "2019-07-02T21:02:41.830563Z"
    }
   },
   "outputs": [],
   "source": [
    "from sklearn.preprocessing import StandardScaler"
   ]
  },
  {
   "cell_type": "code",
   "execution_count": null,
   "metadata": {
    "ExecuteTime": {
     "end_time": "2019-07-02T21:02:42.131482Z",
     "start_time": "2019-07-02T21:02:42.104881Z"
    }
   },
   "outputs": [],
   "source": [
    "std_scaler = StandardScaler()"
   ]
  },
  {
   "cell_type": "code",
   "execution_count": null,
   "metadata": {
    "ExecuteTime": {
     "end_time": "2019-07-02T21:02:42.334935Z",
     "start_time": "2019-07-02T21:02:42.310498Z"
    }
   },
   "outputs": [],
   "source": [
    "X_std = pd.DataFrame(std_scaler.fit_transform(X), columns = X.columns)"
   ]
  },
  {
   "cell_type": "code",
   "execution_count": null,
   "metadata": {
    "ExecuteTime": {
     "end_time": "2019-07-02T21:02:42.540708Z",
     "start_time": "2019-07-02T21:02:42.485507Z"
    }
   },
   "outputs": [],
   "source": [
    "X_std.head()"
   ]
  },
  {
   "cell_type": "code",
   "execution_count": null,
   "metadata": {
    "ExecuteTime": {
     "end_time": "2019-07-02T21:02:43.655710Z",
     "start_time": "2019-07-02T21:02:42.846962Z"
    }
   },
   "outputs": [],
   "source": [
    "plt.hist(y, bins=20)"
   ]
  },
  {
   "cell_type": "markdown",
   "metadata": {},
   "source": [
    "Target variable is skewed. Let us perform a log(1+y) transformation of it with `np.log1p` function"
   ]
  },
  {
   "cell_type": "code",
   "execution_count": null,
   "metadata": {
    "ExecuteTime": {
     "end_time": "2019-07-02T21:02:44.582282Z",
     "start_time": "2019-07-02T21:02:44.569188Z"
    }
   },
   "outputs": [],
   "source": [
    "yln = np.log1p(y)"
   ]
  },
  {
   "cell_type": "code",
   "execution_count": null,
   "metadata": {
    "ExecuteTime": {
     "end_time": "2019-07-02T21:02:46.166227Z",
     "start_time": "2019-07-02T21:02:45.337614Z"
    }
   },
   "outputs": [],
   "source": [
    "plt.hist(yln, bins=20)"
   ]
  },
  {
   "cell_type": "markdown",
   "metadata": {},
   "source": [
    "Show an overall pariplot"
   ]
  },
  {
   "cell_type": "code",
   "execution_count": null,
   "metadata": {
    "ExecuteTime": {
     "end_time": "2019-07-02T21:04:01.008554Z",
     "start_time": "2019-07-02T21:02:46.915872Z"
    },
    "scrolled": false
   },
   "outputs": [],
   "source": [
    "sns.pairplot(tot_df)"
   ]
  },
  {
   "cell_type": "markdown",
   "metadata": {},
   "source": [
    "# Validation scheme"
   ]
  },
  {
   "cell_type": "code",
   "execution_count": null,
   "metadata": {
    "ExecuteTime": {
     "end_time": "2019-07-02T21:04:01.179617Z",
     "start_time": "2019-07-02T21:04:01.026628Z"
    }
   },
   "outputs": [],
   "source": [
    "from sklearn.model_selection import KFold"
   ]
  },
  {
   "cell_type": "code",
   "execution_count": null,
   "metadata": {
    "ExecuteTime": {
     "end_time": "2019-07-02T21:04:01.309169Z",
     "start_time": "2019-07-02T21:04:01.261113Z"
    }
   },
   "outputs": [],
   "source": [
    "from sklearn.model_selection import cross_val_predict, train_test_split\n",
    "from sklearn.metrics import mean_absolute_error, mean_squared_error, r2_score"
   ]
  },
  {
   "cell_type": "markdown",
   "metadata": {},
   "source": [
    "for the train/test split validation"
   ]
  },
  {
   "cell_type": "code",
   "execution_count": null,
   "metadata": {
    "ExecuteTime": {
     "end_time": "2019-07-02T21:04:01.402282Z",
     "start_time": "2019-07-02T21:04:01.359602Z"
    }
   },
   "outputs": [],
   "source": [
    "X_train, X_test, X_std_train, X_std_test, y_train, y_test, yln_train, yln_test = train_test_split(\n",
    "    X, X_std, y, yln, test_size=0.15, random_state=42)"
   ]
  },
  {
   "cell_type": "markdown",
   "metadata": {},
   "source": [
    "for the cross-validation"
   ]
  },
  {
   "cell_type": "code",
   "execution_count": null,
   "metadata": {
    "ExecuteTime": {
     "end_time": "2019-07-02T21:04:01.474896Z",
     "start_time": "2019-07-02T21:04:01.426553Z"
    }
   },
   "outputs": [],
   "source": [
    "cv = KFold(n_splits=10,shuffle=True, random_state=42)"
   ]
  },
  {
   "cell_type": "markdown",
   "metadata": {},
   "source": [
    "define new metric function - Mean Absolute Relative Error"
   ]
  },
  {
   "cell_type": "code",
   "execution_count": null,
   "metadata": {
    "ExecuteTime": {
     "end_time": "2019-07-02T21:04:01.506217Z",
     "start_time": "2019-07-02T21:04:01.487712Z"
    }
   },
   "outputs": [],
   "source": [
    "def MARE(y_true, y_pred):\n",
    "    return np.mean(np.abs(y_true - y_pred)/np.abs(y_true))"
   ]
  },
  {
   "cell_type": "code",
   "execution_count": null,
   "metadata": {
    "ExecuteTime": {
     "end_time": "2019-07-02T21:04:01.620135Z",
     "start_time": "2019-07-02T21:04:01.517197Z"
    }
   },
   "outputs": [],
   "source": [
    "def my_scorer_cv(scorer, X_=X_std, y_=y, exponentiate=False):\n",
    "    if exponentiate:\n",
    "        y_orig = y_\n",
    "        y_ln = np.log1p(y_orig)\n",
    "\n",
    "        y_pred_ln = cross_val_predict(scorer, X_, y_ln, cv=cv)\n",
    "\n",
    "        y_pred = np.expm1(y_pred_ln)\n",
    "        print(\"R2 = {},\\nMARE={},\\nMAE = {},\\nRMSE={}\".format(r2_score(y_orig, y_pred), MARE(\n",
    "            y_orig, y_pred), mean_absolute_error(y_orig, y_pred), np.sqrt(mean_squared_error(y_orig, y_pred))))\n",
    "\n",
    "        y_max = max(max(y_orig), max(y_pred))\n",
    "        y_min = min(min(y_orig), min(y_pred))\n",
    "\n",
    "        plt.xlim(y_min, y_max)\n",
    "        plt.ylim(y_min, y_max)\n",
    "        plt.scatter(y_orig, y_pred, alpha=0.75)\n",
    "        plt.plot([y_min, y_max], [y_min, y_max])\n",
    "        plt.xlabel(\"True F$_b$\")\n",
    "        plt.ylabel(\"Predicted F$_b$\")\n",
    "        plt.show()\n",
    "        plt.scatter(y_ln, y_pred_ln, alpha=0.75)\n",
    "        plt.xlabel(\"True $ \\ln$ F$_b$\")\n",
    "        plt.ylabel(\"Predicted $\\ln$ F$_b$\")\n",
    "        y_max = max(max(y_ln), max(y_pred_ln))\n",
    "        y_min = min(min(y_ln), min(y_pred_ln))\n",
    "        plt.plot([y_min, y_max], [y_min, y_max])\n",
    "        plt.xlim(y_min, y_max)\n",
    "        plt.ylim(y_min, y_max)\n",
    "        return\n",
    "\n",
    "    y_pred = cross_val_predict(scorer, X_, y_, cv=cv)\n",
    "    print(\"R2 = {},\\nMARE={},\\nMAE = {},\\nRMSE={}\".format(r2_score(y, y_pred), MARE(\n",
    "        y, y_pred), mean_absolute_error(y, y_pred), np.sqrt(mean_squared_error(y, y_pred))))\n",
    "    y_max = max(max(y), max(y_pred))\n",
    "    y_min = min(min(y), min(y_pred))\n",
    "    plt.xlim(y_min, y_max)\n",
    "    plt.ylim(y_min, y_max)\n",
    "    plt.scatter(y_, y_pred, alpha=0.75)\n",
    "    plt.plot([y_min, y_max], [y_min, y_max])\n",
    "    plt.xlabel(\"True F$_b$\")\n",
    "    plt.ylabel(\"Predicted F$_b$\")\n",
    "    plt.show()"
   ]
  },
  {
   "cell_type": "code",
   "execution_count": null,
   "metadata": {
    "ExecuteTime": {
     "end_time": "2019-07-02T21:04:01.724883Z",
     "start_time": "2019-07-02T21:04:01.635143Z"
    }
   },
   "outputs": [],
   "source": [
    "def my_scorer_test(scorer, X_train=X_std_train, X_test=X_std_test, y_train=y_train, y_test=y_test, exponentiate=False):\n",
    "    y_orig_train, y_orig_test = y_train, y_test\n",
    "    if exponentiate:\n",
    "\n",
    "        y_ln_train = np.log1p(y_orig_train)\n",
    "        y_ln_test = np.log1p(y_orig_test)\n",
    "\n",
    "        scorer.fit(X_train, y_ln_train)\n",
    "        y_ln_train_pred = scorer.predict(X_train)\n",
    "        y_ln_test_pred = scorer.predict(X_test)\n",
    "\n",
    "        y_pred_train = np.expm1(y_ln_train_pred)\n",
    "        y_pred_test = np.expm1(y_ln_test_pred)\n",
    "        print(\"TEST:\\nR2 = {},\\nMARE={},\\nMAE = {},\\nRMSE={}\".format(\n",
    "            r2_score(y_orig_test, y_pred_test),\n",
    "            MARE(y_orig_test, y_pred_test),\n",
    "            mean_absolute_error(y_orig_test, y_pred_test),\n",
    "            np.sqrt(mean_squared_error(y_orig_test, y_pred_test)))\n",
    "        )\n",
    "        print(\"TRAIN:\\nR2 = {},\\nMARE={},\\nMAE = {},\\nRMSE={}\".format(\n",
    "            r2_score(y_orig_train, y_pred_train),\n",
    "            MARE(y_orig_train, y_pred_train),\n",
    "            mean_absolute_error(y_orig_train, y_pred_train),\n",
    "            np.sqrt(mean_squared_error(y_orig_train, y_pred_train)))\n",
    "        )\n",
    "\n",
    "        y_max = max(list(y_orig_test) + list(y_orig_train) +\n",
    "                    list(y_pred_test) + list(y_pred_train))\n",
    "        y_min = min(list(y_orig_test) + list(y_orig_train) +\n",
    "                    list(y_pred_test) + list(y_pred_train))\n",
    "\n",
    "        plt.xlim(y_min, y_max)\n",
    "        plt.ylim(y_min, y_max)\n",
    "        plt.scatter(y_orig_train, y_pred_train, alpha=0.75,\n",
    "                    color=\"blue\", label=\"Train\")\n",
    "        plt.scatter(y_orig_test, y_pred_test, alpha=0.75,\n",
    "                    color=\"green\", label=\"Test\")\n",
    "        plt.plot([y_min, y_max], [y_min, y_max])\n",
    "        plt.xlabel(\"True F$_b$\")\n",
    "        plt.ylabel(\"Predicted F$_b$\")\n",
    "        plt.legend()\n",
    "        plt.show()\n",
    "\n",
    "        plt.scatter(y_ln_train, y_ln_train_pred,\n",
    "                    alpha=0.75, color=\"blue\", label=\"Train\")\n",
    "        plt.scatter(y_ln_test, y_ln_test_pred, alpha=0.75,\n",
    "                    color=\"green\", label=\"Test\")\n",
    "        plt.xlabel(\"True $ \\ln$ F$_b$\")\n",
    "        plt.ylabel(\"Predicted $\\ln$ F$_b$\")\n",
    "        plt.legend()\n",
    "        y_max = max(list(y_ln_train) + list(y_ln_train_pred) +\n",
    "                    list(y_ln_test) + list(y_ln_test_pred))\n",
    "        y_min = min(list(y_ln_train) + list(y_ln_train_pred) +\n",
    "                    list(y_ln_test) + list(y_ln_test_pred))\n",
    "        plt.plot([y_min, y_max], [y_min, y_max])\n",
    "        plt.xlim(y_min, y_max)\n",
    "        plt.ylim(y_min, y_max)\n",
    "        return\n",
    "\n",
    "    scorer.fit(X_train, y_train)\n",
    "    y_pred_train = scorer.predict(X_train)\n",
    "    y_pred_test = scorer.predict(X_test)\n",
    "\n",
    "    print(\"TEST:\\nR2 = {},\\nMARE={},\\nMAE = {},\\nRMSE={}\".format(\n",
    "        r2_score(y_orig_test, y_pred_test),\n",
    "        MARE(y_orig_test, y_pred_test),\n",
    "        mean_absolute_error(y_orig_test, y_pred_test),\n",
    "        np.sqrt(mean_squared_error(y_orig_test, y_pred_test)))\n",
    "    )\n",
    "\n",
    "    print(\"TRAIN:\\nR2 = {},\\nMARE={},\\nMAE = {},\\nRMSE={}\".format(\n",
    "        r2_score(y_orig_train, y_pred_train),\n",
    "        MARE(y_orig_train, y_pred_train),\n",
    "        mean_absolute_error(y_orig_train, y_pred_train),\n",
    "        np.sqrt(mean_squared_error(y_orig_train, y_pred_train)))\n",
    "    )\n",
    "\n",
    "    y_max = max(list(y_orig_test) + list(y_orig_train) +\n",
    "                list(y_pred_test) + list(y_pred_train))\n",
    "    y_min = min(list(y_orig_test) + list(y_orig_train) +\n",
    "                list(y_pred_test) + list(y_pred_train))\n",
    "\n",
    "    plt.xlim(y_min, y_max)\n",
    "    plt.ylim(y_min, y_max)\n",
    "    plt.scatter(y_orig_train, y_pred_train, alpha=0.75,\n",
    "                color=\"blue\", label=\"Train\")\n",
    "    plt.scatter(y_orig_test, y_pred_test, alpha=0.75,\n",
    "                color=\"green\", label=\"Test\")\n",
    "    plt.plot([y_min, y_max], [y_min, y_max])\n",
    "    plt.xlabel(\"True F$_b$\")\n",
    "    plt.ylabel(\"Predicted F$_b$\")\n",
    "    plt.legend()\n",
    "    plt.show()"
   ]
  },
  {
   "cell_type": "markdown",
   "metadata": {},
   "source": [
    "# Complex features model from the paper"
   ]
  },
  {
   "cell_type": "markdown",
   "metadata": {},
   "source": [
    "The best model from supporting information, section S7: https://pubs.acs.org/doi/suppl/10.1021/acs.chemmater.5b04109/suppl_file/cm5b04109_si_001.pdf"
   ]
  },
  {
   "cell_type": "markdown",
   "metadata": {},
   "source": [
    "$F_b = 43.554 \\exp\\{0.173 \\omega_{max} E_g^{ 1/2} / \\ln(\\omega_{mean})\\} $"
   ]
  },
  {
   "cell_type": "markdown",
   "metadata": {},
   "source": [
    "compute for the whole dataset"
   ]
  },
  {
   "cell_type": "code",
   "execution_count": null,
   "metadata": {
    "ExecuteTime": {
     "end_time": "2019-07-02T21:04:01.776267Z",
     "start_time": "2019-07-02T21:04:01.731173Z"
    }
   },
   "outputs": [],
   "source": [
    "y_complex_pred = 43.554 * np.exp(0.173*df[\"omega_max\"]*df[\"Eg\"]**(1./2.)/ np.log(df[\"omega_mean\"]))"
   ]
  },
  {
   "cell_type": "markdown",
   "metadata": {},
   "source": [
    "compute for the test dataset only"
   ]
  },
  {
   "cell_type": "code",
   "execution_count": null,
   "metadata": {
    "ExecuteTime": {
     "end_time": "2019-07-02T21:04:01.796850Z",
     "start_time": "2019-07-02T21:04:01.782042Z"
    }
   },
   "outputs": [],
   "source": [
    "y_complex_test_pred = 43.554 * np.exp(0.173*X_test[\"omega_max\"]*X_test[\"Eg\"]**(1./2.)/ np.log(X_test[\"omega_mean\"]))"
   ]
  },
  {
   "cell_type": "code",
   "execution_count": null,
   "metadata": {
    "ExecuteTime": {
     "end_time": "2019-07-02T21:04:03.616969Z",
     "start_time": "2019-07-02T21:04:01.830096Z"
    }
   },
   "outputs": [],
   "source": [
    "plt.scatter(y,y_complex_pred, label=\"Train\")\n",
    "plt.scatter(y_test,y_complex_test_pred, label=\"Test\")\n",
    "plt.legend()"
   ]
  },
  {
   "cell_type": "markdown",
   "metadata": {},
   "source": [
    "Metrics on the whole dataset"
   ]
  },
  {
   "cell_type": "code",
   "execution_count": null,
   "metadata": {
    "ExecuteTime": {
     "end_time": "2019-07-02T21:04:03.679977Z",
     "start_time": "2019-07-02T21:04:03.624191Z"
    }
   },
   "outputs": [],
   "source": [
    "mean_absolute_error(y_complex_pred,y)"
   ]
  },
  {
   "cell_type": "code",
   "execution_count": null,
   "metadata": {
    "ExecuteTime": {
     "end_time": "2019-07-02T21:04:03.722901Z",
     "start_time": "2019-07-02T21:04:03.688808Z"
    }
   },
   "outputs": [],
   "source": [
    "np.sqrt(mean_squared_error(y,y_complex_pred))"
   ]
  },
  {
   "cell_type": "code",
   "execution_count": null,
   "metadata": {
    "ExecuteTime": {
     "end_time": "2019-07-02T21:04:03.757766Z",
     "start_time": "2019-07-02T21:04:03.729020Z"
    }
   },
   "outputs": [],
   "source": [
    "MARE(y,y_complex_pred)"
   ]
  },
  {
   "cell_type": "code",
   "execution_count": null,
   "metadata": {
    "ExecuteTime": {
     "end_time": "2019-07-02T21:04:03.785813Z",
     "start_time": "2019-07-02T21:04:03.763192Z"
    }
   },
   "outputs": [],
   "source": [
    "r2_score(y,y_complex_pred)"
   ]
  },
  {
   "cell_type": "code",
   "execution_count": null,
   "metadata": {},
   "outputs": [],
   "source": []
  },
  {
   "cell_type": "code",
   "execution_count": null,
   "metadata": {},
   "outputs": [],
   "source": []
  },
  {
   "cell_type": "markdown",
   "metadata": {},
   "source": [
    "Metrics on the **test** dataset"
   ]
  },
  {
   "cell_type": "code",
   "execution_count": null,
   "metadata": {
    "ExecuteTime": {
     "end_time": "2019-07-02T21:04:03.815811Z",
     "start_time": "2019-07-02T21:04:03.795068Z"
    }
   },
   "outputs": [],
   "source": [
    "mean_absolute_error(y_complex_test_pred,y_test)"
   ]
  },
  {
   "cell_type": "code",
   "execution_count": null,
   "metadata": {
    "ExecuteTime": {
     "end_time": "2019-07-02T21:04:03.854103Z",
     "start_time": "2019-07-02T21:04:03.824690Z"
    }
   },
   "outputs": [],
   "source": [
    "np.sqrt(mean_squared_error(y_test, y_complex_test_pred))"
   ]
  },
  {
   "cell_type": "code",
   "execution_count": null,
   "metadata": {
    "ExecuteTime": {
     "end_time": "2019-07-02T21:04:03.907566Z",
     "start_time": "2019-07-02T21:04:03.883465Z"
    }
   },
   "outputs": [],
   "source": [
    "MARE(y_test, y_complex_test_pred)"
   ]
  },
  {
   "cell_type": "code",
   "execution_count": null,
   "metadata": {
    "ExecuteTime": {
     "end_time": "2019-07-02T21:04:03.946063Z",
     "start_time": "2019-07-02T21:04:03.918145Z"
    }
   },
   "outputs": [],
   "source": [
    "r2_score(y_test, y_complex_test_pred)"
   ]
  },
  {
   "cell_type": "code",
   "execution_count": null,
   "metadata": {},
   "outputs": [],
   "source": []
  },
  {
   "cell_type": "markdown",
   "metadata": {},
   "source": [
    "# Linear regression"
   ]
  },
  {
   "cell_type": "code",
   "execution_count": null,
   "metadata": {
    "ExecuteTime": {
     "end_time": "2019-07-02T21:04:04.354911Z",
     "start_time": "2019-07-02T21:04:03.955200Z"
    }
   },
   "outputs": [],
   "source": [
    "from sklearn.linear_model import LinearRegression\n",
    "lr=LinearRegression()"
   ]
  },
  {
   "cell_type": "code",
   "execution_count": null,
   "metadata": {
    "ExecuteTime": {
     "end_time": "2019-07-02T21:04:06.839044Z",
     "start_time": "2019-07-02T21:04:04.427092Z"
    }
   },
   "outputs": [],
   "source": [
    "my_scorer_cv(lr)"
   ]
  },
  {
   "cell_type": "code",
   "execution_count": null,
   "metadata": {
    "ExecuteTime": {
     "end_time": "2019-07-02T21:04:08.271563Z",
     "start_time": "2019-07-02T21:04:06.851883Z"
    }
   },
   "outputs": [],
   "source": [
    "my_scorer_test(lr)"
   ]
  },
  {
   "cell_type": "markdown",
   "metadata": {},
   "source": [
    "Try the logarithm and inverse-exponentiation transformation"
   ]
  },
  {
   "cell_type": "code",
   "execution_count": null,
   "metadata": {
    "ExecuteTime": {
     "end_time": "2019-07-02T21:04:11.395426Z",
     "start_time": "2019-07-02T21:04:08.284087Z"
    }
   },
   "outputs": [],
   "source": [
    "my_scorer_test(lr, exponentiate=True)"
   ]
  },
  {
   "cell_type": "code",
   "execution_count": null,
   "metadata": {
    "ExecuteTime": {
     "end_time": "2019-07-02T21:04:13.716455Z",
     "start_time": "2019-07-02T21:04:11.405070Z"
    }
   },
   "outputs": [],
   "source": [
    "my_scorer_cv(lr, exponentiate=True)"
   ]
  },
  {
   "cell_type": "markdown",
   "metadata": {},
   "source": [
    "# Kernel Ridge"
   ]
  },
  {
   "cell_type": "code",
   "execution_count": null,
   "metadata": {
    "ExecuteTime": {
     "end_time": "2019-07-02T20:03:18.467287Z",
     "start_time": "2019-07-02T20:03:18.462203Z"
    }
   },
   "outputs": [],
   "source": [
    "from sklearn.kernel_ridge import KernelRidge"
   ]
  },
  {
   "cell_type": "code",
   "execution_count": null,
   "metadata": {},
   "outputs": [],
   "source": []
  },
  {
   "cell_type": "markdown",
   "metadata": {},
   "source": [
    "# Random Forest"
   ]
  },
  {
   "cell_type": "code",
   "execution_count": null,
   "metadata": {
    "ExecuteTime": {
     "end_time": "2019-07-02T20:05:27.082082Z",
     "start_time": "2019-07-02T20:05:27.077287Z"
    }
   },
   "outputs": [],
   "source": [
    "from sklearn.ensemble import RandomForestRegressor"
   ]
  },
  {
   "cell_type": "markdown",
   "metadata": {},
   "source": [
    "# Gradient boosting"
   ]
  },
  {
   "cell_type": "code",
   "execution_count": null,
   "metadata": {
    "ExecuteTime": {
     "end_time": "2019-07-02T20:19:35.061800Z",
     "start_time": "2019-07-02T20:19:35.055237Z"
    }
   },
   "outputs": [],
   "source": [
    "from sklearn.ensemble import GradientBoostingRegressor"
   ]
  },
  {
   "cell_type": "markdown",
   "metadata": {},
   "source": [
    "# Neural network (sklearn)"
   ]
  },
  {
   "cell_type": "code",
   "execution_count": null,
   "metadata": {
    "ExecuteTime": {
     "end_time": "2019-07-02T20:22:27.263189Z",
     "start_time": "2019-07-02T20:22:27.257211Z"
    }
   },
   "outputs": [],
   "source": [
    "from sklearn.neural_network import MLPRegressor"
   ]
  },
  {
   "cell_type": "code",
   "execution_count": null,
   "metadata": {
    "ExecuteTime": {
     "end_time": "2019-07-02T20:22:28.647950Z",
     "start_time": "2019-07-02T20:22:28.642635Z"
    }
   },
   "outputs": [],
   "source": [
    "mlp=MLPRegressor(random_state=42,max_iter=2000)"
   ]
  },
  {
   "cell_type": "code",
   "execution_count": null,
   "metadata": {},
   "outputs": [],
   "source": []
  },
  {
   "cell_type": "markdown",
   "metadata": {},
   "source": [
    "# Neural network - Keras"
   ]
  },
  {
   "cell_type": "code",
   "execution_count": null,
   "metadata": {
    "ExecuteTime": {
     "end_time": "2019-07-02T20:31:15.249140Z",
     "start_time": "2019-07-02T20:31:15.242567Z"
    }
   },
   "outputs": [],
   "source": [
    "from keras.models import Sequential\n",
    "from keras.layers import Dense, Dropout\n",
    "from keras.optimizers import Adam, Adadelta\n",
    "from keras.callbacks import EarlyStopping"
   ]
  },
  {
   "cell_type": "code",
   "execution_count": null,
   "metadata": {
    "ExecuteTime": {
     "end_time": "2019-07-02T20:33:57.214595Z",
     "start_time": "2019-07-02T20:33:57.141792Z"
    }
   },
   "outputs": [],
   "source": [
    "model=Sequential()\n",
    "model.add(Dense(10,input_shape=(X_std.shape[1],), activation=\"relu\"))\n",
    "model.add(Dense(5, activation=\"relu\"))\n",
    "model.add(Dense(1, activation=\"linear\"))"
   ]
  },
  {
   "cell_type": "code",
   "execution_count": null,
   "metadata": {
    "ExecuteTime": {
     "end_time": "2019-07-02T20:34:15.459178Z",
     "start_time": "2019-07-02T20:34:15.414061Z"
    }
   },
   "outputs": [],
   "source": [
    "model.compile(optimizer=Adam(lr=0.005),loss=\"mse\",)"
   ]
  },
  {
   "cell_type": "code",
   "execution_count": null,
   "metadata": {
    "ExecuteTime": {
     "end_time": "2019-07-02T20:34:16.149943Z",
     "start_time": "2019-07-02T20:34:16.138143Z"
    }
   },
   "outputs": [],
   "source": [
    "model.summary()"
   ]
  },
  {
   "cell_type": "code",
   "execution_count": null,
   "metadata": {
    "ExecuteTime": {
     "end_time": "2019-07-02T20:34:16.858675Z",
     "start_time": "2019-07-02T20:34:16.851859Z"
    }
   },
   "outputs": [],
   "source": [
    "early_stopping = EarlyStopping(patience=15)"
   ]
  },
  {
   "cell_type": "code",
   "execution_count": null,
   "metadata": {
    "ExecuteTime": {
     "end_time": "2019-07-02T20:34:19.584491Z",
     "start_time": "2019-07-02T20:34:17.392694Z"
    },
    "scrolled": true
   },
   "outputs": [],
   "source": [
    "model.fit(X_std_train,np.log1p(y_train), epochs=2000, validation_data=(X_std_test, np.log1p(y_test)), verbose=2,\n",
    "         callbacks=[early_stopping])"
   ]
  },
  {
   "cell_type": "code",
   "execution_count": null,
   "metadata": {
    "ExecuteTime": {
     "end_time": "2019-07-02T20:34:26.847899Z",
     "start_time": "2019-07-02T20:34:26.669451Z"
    }
   },
   "outputs": [],
   "source": [
    "yln_test_pred = model.predict(X_std_test)\n",
    "yln_train_pred = model.predict(X_std_train)"
   ]
  },
  {
   "cell_type": "code",
   "execution_count": null,
   "metadata": {
    "ExecuteTime": {
     "end_time": "2019-07-02T20:34:28.121024Z",
     "start_time": "2019-07-02T20:34:28.113949Z"
    }
   },
   "outputs": [],
   "source": [
    "y_pred_test=np.expm1(yln_test_pred).reshape(-1)\n",
    "y_pred_train=np.expm1(yln_train_pred).reshape(-1)"
   ]
  },
  {
   "cell_type": "code",
   "execution_count": null,
   "metadata": {
    "ExecuteTime": {
     "end_time": "2019-07-02T21:05:09.648213Z",
     "start_time": "2019-07-02T21:05:08.969970Z"
    }
   },
   "outputs": [],
   "source": [
    "plt.scatter(y_train,y_pred_train,label=\"Train\")\n",
    "plt.scatter(y_test,y_pred_test, label=\"Test\")\n",
    "plt.legend()"
   ]
  },
  {
   "cell_type": "code",
   "execution_count": null,
   "metadata": {
    "ExecuteTime": {
     "end_time": "2019-07-02T20:36:33.285154Z",
     "start_time": "2019-07-02T20:36:33.271116Z"
    }
   },
   "outputs": [],
   "source": [
    "r2_score(y_train,y_pred_train)"
   ]
  },
  {
   "cell_type": "code",
   "execution_count": null,
   "metadata": {
    "ExecuteTime": {
     "end_time": "2019-07-02T20:36:34.444966Z",
     "start_time": "2019-07-02T20:36:34.434995Z"
    }
   },
   "outputs": [],
   "source": [
    "r2_score(y_test,y_pred_test)"
   ]
  },
  {
   "cell_type": "code",
   "execution_count": null,
   "metadata": {
    "ExecuteTime": {
     "end_time": "2019-07-02T20:37:26.696515Z",
     "start_time": "2019-07-02T20:37:26.687781Z"
    }
   },
   "outputs": [],
   "source": [
    "mean_absolute_error(y_test,y_pred_test)"
   ]
  },
  {
   "cell_type": "code",
   "execution_count": null,
   "metadata": {
    "ExecuteTime": {
     "end_time": "2019-07-02T20:37:38.075059Z",
     "start_time": "2019-07-02T20:37:38.064894Z"
    }
   },
   "outputs": [],
   "source": [
    "np.sqrt(mean_squared_error(y_test,y_pred_test))"
   ]
  },
  {
   "cell_type": "code",
   "execution_count": null,
   "metadata": {},
   "outputs": [],
   "source": []
  }
 ],
 "metadata": {
  "anaconda-cloud": {},
  "kernelspec": {
   "display_name": "Python 3",
   "language": "python",
   "name": "python3"
  },
  "language_info": {
   "codemirror_mode": {
    "name": "ipython",
    "version": 3
   },
   "file_extension": ".py",
   "mimetype": "text/x-python",
   "name": "python",
   "nbconvert_exporter": "python",
   "pygments_lexer": "ipython3",
   "version": "3.7.1"
  },
  "toc": {
   "base_numbering": 1,
   "nav_menu": {
    "height": "48px",
    "width": "252px"
   },
   "number_sections": true,
   "sideBar": true,
   "skip_h1_title": false,
   "title_cell": "Table of Contents",
   "title_sidebar": "Contents",
   "toc_cell": false,
   "toc_position": {},
   "toc_section_display": "block",
   "toc_window_display": false
  }
 },
 "nbformat": 4,
 "nbformat_minor": 2
}
